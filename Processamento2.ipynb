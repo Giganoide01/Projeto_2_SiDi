{
 "cells": [
  {
   "cell_type": "code",
   "execution_count": 1,
   "id": "d230d96a",
   "metadata": {},
   "outputs": [],
   "source": [
    "import pandas as pd\n",
    "\n",
    "#features\n",
    "from sklearn.feature_extraction.text import TfidfVectorizer\n",
    "from sklearn.feature_extraction.text import CountVectorizer\n",
    "from sklearn.metrics.pairwise import linear_kernel\n",
    "from sklearn import metrics\n",
    "from sklearn.model_selection import train_test_split\n",
    "from sklearn.decomposition import PCA\n",
    "from sklearn.decomposition import TruncatedSVD\n",
    "\n",
    "#models\n",
    "from sklearn.linear_model import LogisticRegression\n",
    "from sklearn.linear_model import SGDClassifier\n",
    "from sklearn.naive_bayes import BernoulliNB\n",
    "from sklearn.naive_bayes import GaussianNB\n",
    "from sklearn.naive_bayes import MultinomialNB\n",
    "from sklearn.naive_bayes import ComplementNB\n",
    "from sklearn.ensemble  import RandomForestClassifier\n",
    "from sklearn.neural_network import MLPClassifier\n",
    "from sklearn.ensemble import GradientBoostingClassifier\n",
    "from sklearn.svm import SVC\n",
    "from sklearn.svm import LinearSVC\n",
    "from sklearn.neighbors import KNeighborsClassifier\n",
    "\n",
    "#CV\n",
    "from sklearn.model_selection import cross_validate\n"
   ]
  },
  {
   "cell_type": "code",
   "execution_count": 2,
   "id": "5e16119e",
   "metadata": {},
   "outputs": [
    {
     "name": "stderr",
     "output_type": "stream",
     "text": [
      "C:\\Users\\mcacs\\anaconda3\\envs\\sidi\\lib\\site-packages\\IPython\\core\\interactiveshell.py:3457: DtypeWarning: Columns (4,7) have mixed types.Specify dtype option on import or set low_memory=False.\n",
      "  exec(code_obj, self.user_global_ns, self.user_ns)\n"
     ]
    }
   ],
   "source": [
    "original_df = pd.read_csv(\"C:/Users/mcacs/Downloads/fakeWhatsApp.BR_2018.csv\")"
   ]
  },
  {
   "cell_type": "code",
   "execution_count": 3,
   "id": "df178951",
   "metadata": {},
   "outputs": [
    {
     "data": {
      "text/plain": [
       "(20872, 19)"
      ]
     },
     "execution_count": 3,
     "metadata": {},
     "output_type": "execute_result"
    }
   ],
   "source": [
    "original_df = original_df[original_df['midia']==0]\n",
    "original_df = original_df[original_df['viral']==1]\n",
    "original_df.shape"
   ]
  },
  {
   "cell_type": "code",
   "execution_count": 4,
   "id": "bc35271c",
   "metadata": {},
   "outputs": [
    {
     "data": {
      "text/html": [
       "<div>\n",
       "<style scoped>\n",
       "    .dataframe tbody tr th:only-of-type {\n",
       "        vertical-align: middle;\n",
       "    }\n",
       "\n",
       "    .dataframe tbody tr th {\n",
       "        vertical-align: top;\n",
       "    }\n",
       "\n",
       "    .dataframe thead th {\n",
       "        text-align: right;\n",
       "    }\n",
       "</style>\n",
       "<table border=\"1\" class=\"dataframe\">\n",
       "  <thead>\n",
       "    <tr style=\"text-align: right;\">\n",
       "      <th></th>\n",
       "      <th>id</th>\n",
       "      <th>date</th>\n",
       "      <th>hour</th>\n",
       "      <th>timestamp</th>\n",
       "      <th>ddi</th>\n",
       "      <th>country</th>\n",
       "      <th>country_iso3</th>\n",
       "      <th>ddd</th>\n",
       "      <th>state</th>\n",
       "      <th>group</th>\n",
       "      <th>midia</th>\n",
       "      <th>url</th>\n",
       "      <th>characters</th>\n",
       "      <th>words</th>\n",
       "      <th>types</th>\n",
       "      <th>viral</th>\n",
       "      <th>shares</th>\n",
       "      <th>text</th>\n",
       "      <th>misinformation</th>\n",
       "    </tr>\n",
       "  </thead>\n",
       "  <tbody>\n",
       "    <tr>\n",
       "      <th>1</th>\n",
       "      <td>3631133147603888180</td>\n",
       "      <td>01/08/18</td>\n",
       "      <td>13:24</td>\n",
       "      <td>2018-08-01 13:24:00</td>\n",
       "      <td>55</td>\n",
       "      <td>BRASIL</td>\n",
       "      <td>BRA</td>\n",
       "      <td>17</td>\n",
       "      <td>São Paulo</td>\n",
       "      <td>2018_1</td>\n",
       "      <td>0</td>\n",
       "      <td>0</td>\n",
       "      <td>58</td>\n",
       "      <td>9</td>\n",
       "      <td>9</td>\n",
       "      <td>1</td>\n",
       "      <td>2</td>\n",
       "      <td>O Bolsonaro tem que estar preparado pra respon...</td>\n",
       "      <td>-1</td>\n",
       "    </tr>\n",
       "    <tr>\n",
       "      <th>15</th>\n",
       "      <td>3631133147603888180</td>\n",
       "      <td>10/08/18</td>\n",
       "      <td>14:31</td>\n",
       "      <td>2018-08-10 14:31:00</td>\n",
       "      <td>55</td>\n",
       "      <td>BRASIL</td>\n",
       "      <td>BRA</td>\n",
       "      <td>17</td>\n",
       "      <td>São Paulo</td>\n",
       "      <td>2018_1</td>\n",
       "      <td>0</td>\n",
       "      <td>0</td>\n",
       "      <td>99</td>\n",
       "      <td>18</td>\n",
       "      <td>18</td>\n",
       "      <td>1</td>\n",
       "      <td>2</td>\n",
       "      <td>No dia 07 de Outubro, quando for votar, não es...</td>\n",
       "      <td>1</td>\n",
       "    </tr>\n",
       "    <tr>\n",
       "      <th>26</th>\n",
       "      <td>-4391661641377612003</td>\n",
       "      <td>11/08/18</td>\n",
       "      <td>19:28</td>\n",
       "      <td>2018-08-11 19:28:00</td>\n",
       "      <td>55</td>\n",
       "      <td>BRASIL</td>\n",
       "      <td>BRA</td>\n",
       "      <td>13</td>\n",
       "      <td>São Paulo</td>\n",
       "      <td>2018_1</td>\n",
       "      <td>0</td>\n",
       "      <td>0</td>\n",
       "      <td>114</td>\n",
       "      <td>17</td>\n",
       "      <td>17</td>\n",
       "      <td>1</td>\n",
       "      <td>6</td>\n",
       "      <td>Devido a aborrecimentos nas varias redes socia...</td>\n",
       "      <td>0</td>\n",
       "    </tr>\n",
       "    <tr>\n",
       "      <th>43</th>\n",
       "      <td>3631133147603888180</td>\n",
       "      <td>15/08/18</td>\n",
       "      <td>19:23</td>\n",
       "      <td>2018-08-15 19:23:00</td>\n",
       "      <td>55</td>\n",
       "      <td>BRASIL</td>\n",
       "      <td>BRA</td>\n",
       "      <td>17</td>\n",
       "      <td>São Paulo</td>\n",
       "      <td>2018_1</td>\n",
       "      <td>0</td>\n",
       "      <td>1</td>\n",
       "      <td>330</td>\n",
       "      <td>47</td>\n",
       "      <td>40</td>\n",
       "      <td>1</td>\n",
       "      <td>7</td>\n",
       "      <td>EU GOSTARIA DE PEDIR A TODOS DO GRUPOS ENTREM ...</td>\n",
       "      <td>0</td>\n",
       "    </tr>\n",
       "    <tr>\n",
       "      <th>103</th>\n",
       "      <td>-4391661641377612003</td>\n",
       "      <td>22/08/18</td>\n",
       "      <td>22:11</td>\n",
       "      <td>2018-08-22 22:11:00</td>\n",
       "      <td>55</td>\n",
       "      <td>BRASIL</td>\n",
       "      <td>BRA</td>\n",
       "      <td>13</td>\n",
       "      <td>São Paulo</td>\n",
       "      <td>2018_1</td>\n",
       "      <td>0</td>\n",
       "      <td>0</td>\n",
       "      <td>226</td>\n",
       "      <td>39</td>\n",
       "      <td>34</td>\n",
       "      <td>1</td>\n",
       "      <td>8</td>\n",
       "      <td>Como são as coisas.\\nChefe do jacaré aparece n...</td>\n",
       "      <td>1</td>\n",
       "    </tr>\n",
       "  </tbody>\n",
       "</table>\n",
       "</div>"
      ],
      "text/plain": [
       "                      id      date   hour            timestamp ddi country  \\\n",
       "1    3631133147603888180  01/08/18  13:24  2018-08-01 13:24:00  55  BRASIL   \n",
       "15   3631133147603888180  10/08/18  14:31  2018-08-10 14:31:00  55  BRASIL   \n",
       "26  -4391661641377612003  11/08/18  19:28  2018-08-11 19:28:00  55  BRASIL   \n",
       "43   3631133147603888180  15/08/18  19:23  2018-08-15 19:23:00  55  BRASIL   \n",
       "103 -4391661641377612003  22/08/18  22:11  2018-08-22 22:11:00  55  BRASIL   \n",
       "\n",
       "    country_iso3 ddd      state   group  midia  url  characters  words  types  \\\n",
       "1            BRA  17  São Paulo  2018_1      0    0          58      9      9   \n",
       "15           BRA  17  São Paulo  2018_1      0    0          99     18     18   \n",
       "26           BRA  13  São Paulo  2018_1      0    0         114     17     17   \n",
       "43           BRA  17  São Paulo  2018_1      0    1         330     47     40   \n",
       "103          BRA  13  São Paulo  2018_1      0    0         226     39     34   \n",
       "\n",
       "     viral  shares                                               text  \\\n",
       "1        1       2  O Bolsonaro tem que estar preparado pra respon...   \n",
       "15       1       2  No dia 07 de Outubro, quando for votar, não es...   \n",
       "26       1       6  Devido a aborrecimentos nas varias redes socia...   \n",
       "43       1       7  EU GOSTARIA DE PEDIR A TODOS DO GRUPOS ENTREM ...   \n",
       "103      1       8  Como são as coisas.\\nChefe do jacaré aparece n...   \n",
       "\n",
       "     misinformation  \n",
       "1                -1  \n",
       "15                1  \n",
       "26                0  \n",
       "43                0  \n",
       "103               1  "
      ]
     },
     "execution_count": 4,
     "metadata": {},
     "output_type": "execute_result"
    }
   ],
   "source": [
    "original_df.head()"
   ]
  },
  {
   "cell_type": "code",
   "execution_count": 5,
   "id": "d1280349",
   "metadata": {},
   "outputs": [
    {
     "data": {
      "text/plain": [
       "(5284, 19)"
      ]
     },
     "execution_count": 5,
     "metadata": {},
     "output_type": "execute_result"
    }
   ],
   "source": [
    "original_df = original_df.drop_duplicates(subset=['text'])\n",
    "original_df.shape"
   ]
  },
  {
   "cell_type": "code",
   "execution_count": 6,
   "id": "02b448e8",
   "metadata": {},
   "outputs": [
    {
     "data": {
      "text/html": [
       "<div>\n",
       "<style scoped>\n",
       "    .dataframe tbody tr th:only-of-type {\n",
       "        vertical-align: middle;\n",
       "    }\n",
       "\n",
       "    .dataframe tbody tr th {\n",
       "        vertical-align: top;\n",
       "    }\n",
       "\n",
       "    .dataframe thead th {\n",
       "        text-align: right;\n",
       "    }\n",
       "</style>\n",
       "<table border=\"1\" class=\"dataframe\">\n",
       "  <thead>\n",
       "    <tr style=\"text-align: right;\">\n",
       "      <th></th>\n",
       "      <th>text</th>\n",
       "      <th>misinformation</th>\n",
       "    </tr>\n",
       "  </thead>\n",
       "  <tbody>\n",
       "    <tr>\n",
       "      <th>1</th>\n",
       "      <td>O Bolsonaro tem que estar preparado pra respon...</td>\n",
       "      <td>-1</td>\n",
       "    </tr>\n",
       "    <tr>\n",
       "      <th>15</th>\n",
       "      <td>No dia 07 de Outubro, quando for votar, não es...</td>\n",
       "      <td>1</td>\n",
       "    </tr>\n",
       "    <tr>\n",
       "      <th>26</th>\n",
       "      <td>Devido a aborrecimentos nas varias redes socia...</td>\n",
       "      <td>0</td>\n",
       "    </tr>\n",
       "    <tr>\n",
       "      <th>43</th>\n",
       "      <td>EU GOSTARIA DE PEDIR A TODOS DO GRUPOS ENTREM ...</td>\n",
       "      <td>0</td>\n",
       "    </tr>\n",
       "    <tr>\n",
       "      <th>103</th>\n",
       "      <td>Como são as coisas.\\nChefe do jacaré aparece n...</td>\n",
       "      <td>1</td>\n",
       "    </tr>\n",
       "    <tr>\n",
       "      <th>...</th>\n",
       "      <td>...</td>\n",
       "      <td>...</td>\n",
       "    </tr>\n",
       "    <tr>\n",
       "      <th>280574</th>\n",
       "      <td>Amoedo - Itaú - Metacapitalistas (George Soros...</td>\n",
       "      <td>1</td>\n",
       "    </tr>\n",
       "    <tr>\n",
       "      <th>280875</th>\n",
       "      <td>*BEM GALERA... O VIDEO DA PSICOLOGIA REVERSA P...</td>\n",
       "      <td>0</td>\n",
       "    </tr>\n",
       "    <tr>\n",
       "      <th>280893</th>\n",
       "      <td>DIVULGUEM ESSE VIDEO PARA QUE TODOS SAIBAM QUE...</td>\n",
       "      <td>1</td>\n",
       "    </tr>\n",
       "    <tr>\n",
       "      <th>281281</th>\n",
       "      <td>https://www.oantagonista.com/brasil/exclusivo-...</td>\n",
       "      <td>0</td>\n",
       "    </tr>\n",
       "    <tr>\n",
       "      <th>281835</th>\n",
       "      <td>*#BOLSONARO2018* 🇧🇷\\n*1*- O foco é trocar info...</td>\n",
       "      <td>0</td>\n",
       "    </tr>\n",
       "  </tbody>\n",
       "</table>\n",
       "<p>5284 rows × 2 columns</p>\n",
       "</div>"
      ],
      "text/plain": [
       "                                                     text  misinformation\n",
       "1       O Bolsonaro tem que estar preparado pra respon...              -1\n",
       "15      No dia 07 de Outubro, quando for votar, não es...               1\n",
       "26      Devido a aborrecimentos nas varias redes socia...               0\n",
       "43      EU GOSTARIA DE PEDIR A TODOS DO GRUPOS ENTREM ...               0\n",
       "103     Como são as coisas.\\nChefe do jacaré aparece n...               1\n",
       "...                                                   ...             ...\n",
       "280574  Amoedo - Itaú - Metacapitalistas (George Soros...               1\n",
       "280875  *BEM GALERA... O VIDEO DA PSICOLOGIA REVERSA P...               0\n",
       "280893  DIVULGUEM ESSE VIDEO PARA QUE TODOS SAIBAM QUE...               1\n",
       "281281  https://www.oantagonista.com/brasil/exclusivo-...               0\n",
       "281835  *#BOLSONARO2018* 🇧🇷\\n*1*- O foco é trocar info...               0\n",
       "\n",
       "[5284 rows x 2 columns]"
      ]
     },
     "execution_count": 6,
     "metadata": {},
     "output_type": "execute_result"
    }
   ],
   "source": [
    "text_df = original_df[[\"text\",\"misinformation\"]]\n",
    "text_df"
   ]
  },
  {
   "cell_type": "code",
   "execution_count": 7,
   "id": "5647011d",
   "metadata": {},
   "outputs": [
    {
     "data": {
      "text/plain": [
       "text              object\n",
       "misinformation     int64\n",
       "dtype: object"
      ]
     },
     "execution_count": 7,
     "metadata": {},
     "output_type": "execute_result"
    }
   ],
   "source": [
    "text_df.dtypes"
   ]
  },
  {
   "cell_type": "code",
   "execution_count": 8,
   "id": "90a3d82c",
   "metadata": {},
   "outputs": [
    {
     "data": {
      "text/plain": [
       " 0    2547\n",
       " 1    2041\n",
       "-1     696\n",
       "Name: misinformation, dtype: int64"
      ]
     },
     "execution_count": 8,
     "metadata": {},
     "output_type": "execute_result"
    }
   ],
   "source": [
    "text_df[\"misinformation\"].value_counts()"
   ]
  },
  {
   "cell_type": "code",
   "execution_count": 9,
   "id": "245637a9",
   "metadata": {},
   "outputs": [],
   "source": [
    "text_df = text_df[text_df[\"misinformation\"]>-1]"
   ]
  },
  {
   "cell_type": "code",
   "execution_count": 10,
   "id": "43399a72",
   "metadata": {},
   "outputs": [
    {
     "name": "stdout",
     "output_type": "stream",
     "text": [
      "Requirement already satisfied: clean-text[gpl]==0.4.0 in c:\\users\\mcacs\\anaconda3\\envs\\sidi\\lib\\site-packages (0.4.0)\n",
      "Requirement already satisfied: ftfy<7.0,>=6.0 in c:\\users\\mcacs\\anaconda3\\envs\\sidi\\lib\\site-packages (from clean-text[gpl]==0.4.0) (6.1.1)\n",
      "Requirement already satisfied: emoji in c:\\users\\mcacs\\anaconda3\\envs\\sidi\\lib\\site-packages (from clean-text[gpl]==0.4.0) (1.6.1)\n",
      "Requirement already satisfied: unidecode<2.0.0,>=1.1.1 in c:\\users\\mcacs\\anaconda3\\envs\\sidi\\lib\\site-packages (from clean-text[gpl]==0.4.0) (1.3.2)\n",
      "Requirement already satisfied: wcwidth>=0.2.5 in c:\\users\\mcacs\\anaconda3\\envs\\sidi\\lib\\site-packages (from ftfy<7.0,>=6.0->clean-text[gpl]==0.4.0) (0.2.5)\n",
      "Note: you may need to restart the kernel to use updated packages.\n"
     ]
    }
   ],
   "source": [
    "pip install clean-text[gpl]==0.4.0"
   ]
  },
  {
   "cell_type": "code",
   "execution_count": 22,
   "id": "e2a2f4d3",
   "metadata": {},
   "outputs": [
    {
     "name": "stderr",
     "output_type": "stream",
     "text": [
      "C:\\Users\\mcacs\\AppData\\Local\\Temp/ipykernel_13140/4139207567.py:10: SettingWithCopyWarning: \n",
      "A value is trying to be set on a copy of a slice from a DataFrame.\n",
      "Try using .loc[row_indexer,col_indexer] = value instead\n",
      "\n",
      "See the caveats in the documentation: https://pandas.pydata.org/pandas-docs/stable/user_guide/indexing.html#returning-a-view-versus-a-copy\n",
      "  text_df['text'] = list_text\n"
     ]
    },
    {
     "data": {
      "text/plain": [
       "'na barra da tijuca no rio, logo apos a entrevista de bolsonaro no jornal nacional\\n.'"
      ]
     },
     "execution_count": 22,
     "metadata": {},
     "output_type": "execute_result"
    }
   ],
   "source": [
    "from string import punctuation\n",
    "\n",
    "list_text = list(text_df['text'])\n",
    "\n",
    "from cleantext import clean\n",
    "for (index, text) in enumerate(list_text):\n",
    "    text = clean(text, no_emoji=True)\n",
    "    list_text[index] = text\n",
    "text_df.drop('text', axis=1, inplace=True)\n",
    "text_df['text'] = list_text\n",
    "text_df.iloc[10]['text']"
   ]
  },
  {
   "cell_type": "code",
   "execution_count": 23,
   "id": "81f96895",
   "metadata": {},
   "outputs": [],
   "source": [
    "text_df.to_csv('C:/Users/mcacs/Downloads/sememoji.csv')"
   ]
  },
  {
   "cell_type": "code",
   "execution_count": 13,
   "id": "b8b721b2",
   "metadata": {},
   "outputs": [
    {
     "data": {
      "text/plain": [
       "(3670,)"
      ]
     },
     "execution_count": 13,
     "metadata": {},
     "output_type": "execute_result"
    }
   ],
   "source": [
    "X_train, X_test, y_train, y_test = train_test_split(text_df['text'], text_df['misinformation'], test_size=0.2, \n",
    "                                                                    stratify = text_df['misinformation'], random_state=42)\n",
    "y_train.shape"
   ]
  },
  {
   "cell_type": "code",
   "execution_count": 14,
   "id": "b899f6fe",
   "metadata": {},
   "outputs": [
    {
     "data": {
      "text/plain": [
       "15        no dia 07 de outubro, quando for votar, nao es...\n",
       "26        devido a aborrecimentos nas varias redes socia...\n",
       "43        eu gostaria de pedir a todos do grupos entrem ...\n",
       "103       como sao as coisas.\\nchefe do jacare aparece n...\n",
       "112       a ratoeira funcionou mais a ratazana aguentou ...\n",
       "                                ...                        \n",
       "280574    amoedo - itau - metacapitalistas (george soros...\n",
       "280875    *bem galera... o video da psicologia reversa p...\n",
       "280893    divulguem esse video para que todos saibam que...\n",
       "281281    https://www.oantagonista.com/brasil/exclusivo-...\n",
       "281835    *#bolsonaro2018*\\n*1*- o foco e trocar informa...\n",
       "Name: text, Length: 4588, dtype: object"
      ]
     },
     "execution_count": 14,
     "metadata": {},
     "output_type": "execute_result"
    }
   ],
   "source": [
    "text = text_df['text']\n",
    "text"
   ]
  },
  {
   "cell_type": "code",
   "execution_count": 15,
   "id": "b4ab41c3",
   "metadata": {},
   "outputs": [],
   "source": [
    "text=text.to_frame()"
   ]
  },
  {
   "cell_type": "code",
   "execution_count": 16,
   "id": "4968eea7",
   "metadata": {},
   "outputs": [],
   "source": [
    "text.reset_index(inplace=True)"
   ]
  },
  {
   "cell_type": "code",
   "execution_count": 17,
   "id": "b6939e2e",
   "metadata": {},
   "outputs": [],
   "source": [
    "text=text['text']"
   ]
  },
  {
   "cell_type": "code",
   "execution_count": 18,
   "id": "71a0630f",
   "metadata": {},
   "outputs": [],
   "source": [
    "list_text=list(text)"
   ]
  },
  {
   "cell_type": "code",
   "execution_count": null,
   "id": "7395047c",
   "metadata": {},
   "outputs": [],
   "source": []
  }
 ],
 "metadata": {
  "kernelspec": {
   "display_name": "Python 3 (ipykernel)",
   "language": "python",
   "name": "python3"
  },
  "language_info": {
   "codemirror_mode": {
    "name": "ipython",
    "version": 3
   },
   "file_extension": ".py",
   "mimetype": "text/x-python",
   "name": "python",
   "nbconvert_exporter": "python",
   "pygments_lexer": "ipython3",
   "version": "3.8.12"
  }
 },
 "nbformat": 4,
 "nbformat_minor": 5
}
