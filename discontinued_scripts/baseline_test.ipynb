{
 "cells": [
  {
   "cell_type": "code",
   "execution_count": 1,
   "id": "c092513a-76a1-4835-9150-eaeb885bcff2",
   "metadata": {},
   "outputs": [],
   "source": [
    "import pandas as pd\n",
    "\n",
    "#features\n",
    "from sklearn.feature_extraction.text import TfidfVectorizer\n",
    "from sklearn.feature_extraction.text import CountVectorizer\n",
    "from sklearn.metrics.pairwise import linear_kernel\n",
    "from sklearn import metrics\n",
    "from sklearn.model_selection import train_test_split\n",
    "from sklearn.decomposition import PCA\n",
    "from sklearn.decomposition import TruncatedSVD\n",
    "\n",
    "#models\n",
    "from sklearn.linear_model import LogisticRegression\n",
    "from sklearn.linear_model import SGDClassifier\n",
    "from sklearn.naive_bayes import BernoulliNB\n",
    "from sklearn.naive_bayes import GaussianNB\n",
    "from sklearn.naive_bayes import MultinomialNB\n",
    "from sklearn.naive_bayes import ComplementNB\n",
    "from sklearn.ensemble  import RandomForestClassifier\n",
    "from sklearn.neural_network import MLPClassifier\n",
    "from sklearn.ensemble import GradientBoostingClassifier\n",
    "from sklearn.svm import SVC\n",
    "from sklearn.svm import LinearSVC\n",
    "from sklearn.neighbors import KNeighborsClassifier\n",
    "\n",
    "#CV\n",
    "from sklearn.model_selection import cross_validate\n"
   ]
  },
  {
   "cell_type": "markdown",
   "id": "84b2a4d1-5320-4920-b99b-6cef84ecd1d4",
   "metadata": {},
   "source": [
    "https://www.scitepress.org/Papers/2021/104468/104468.pdf"
   ]
  },
  {
   "cell_type": "code",
   "execution_count": 2,
   "id": "44951845-5508-4eb1-bd80-90700c1d5c46",
   "metadata": {},
   "outputs": [
    {
     "name": "stderr",
     "output_type": "stream",
     "text": [
      "C:\\Users\\lmb3\\anaconda3\\envs\\fake_news_detector\\lib\\site-packages\\IPython\\core\\interactiveshell.py:3444: DtypeWarning: Columns (4,7) have mixed types.Specify dtype option on import or set low_memory=False.\n",
      "  exec(code_obj, self.user_global_ns, self.user_ns)\n"
     ]
    }
   ],
   "source": [
    "original_df = pd.read_csv(\"C:/Users/lmb3/source/repos/FakeWhatsApp.Br-master/data/2018/fakeWhatsApp.BR_2018.csv\")"
   ]
  },
  {
   "cell_type": "code",
   "execution_count": 3,
   "id": "445b0d47-7f5b-43c4-a851-bdd165be6cfe",
   "metadata": {},
   "outputs": [
    {
     "data": {
      "text/plain": [
       "(20872, 19)"
      ]
     },
     "execution_count": 3,
     "metadata": {},
     "output_type": "execute_result"
    }
   ],
   "source": [
    "original_df = original_df[original_df['midia']==0]\n",
    "original_df = original_df[original_df['viral']==1]\n",
    "original_df.shape"
   ]
  },
  {
   "cell_type": "code",
   "execution_count": 4,
   "id": "abf94c4d-7549-445a-a45f-d3f343f66ba4",
   "metadata": {},
   "outputs": [
    {
     "data": {
      "text/plain": [
       "(5284, 19)"
      ]
     },
     "execution_count": 4,
     "metadata": {},
     "output_type": "execute_result"
    }
   ],
   "source": [
    "original_df = original_df.drop_duplicates(subset=['text'])\n",
    "original_df.shape"
   ]
  },
  {
   "cell_type": "code",
   "execution_count": 5,
   "id": "061e7cf0-3394-4084-babb-ff21e527f756",
   "metadata": {},
   "outputs": [],
   "source": [
    "text_df = original_df[[\"text\",\"misinformation\"]]"
   ]
  },
  {
   "cell_type": "code",
   "execution_count": 6,
   "id": "a7ff98ca-3417-495f-8d39-7dcc77e024ba",
   "metadata": {},
   "outputs": [
    {
     "data": {
      "text/plain": [
       " 0    2547\n",
       " 1    2041\n",
       "-1     696\n",
       "Name: misinformation, dtype: int64"
      ]
     },
     "execution_count": 6,
     "metadata": {},
     "output_type": "execute_result"
    }
   ],
   "source": [
    "text_df[\"misinformation\"].value_counts()"
   ]
  },
  {
   "cell_type": "code",
   "execution_count": 7,
   "id": "74536abd-28bf-4bfb-bf3f-d00944ea0392",
   "metadata": {},
   "outputs": [],
   "source": [
    "text_df = text_df[text_df[\"misinformation\"]>-1]"
   ]
  },
  {
   "cell_type": "code",
   "execution_count": 8,
   "id": "1c975a34-f572-47cc-b31c-706f2bdfd58c",
   "metadata": {},
   "outputs": [],
   "source": [
    "X_train, X_test, y_train, y_test = train_test_split(text_df['text'], text_df['misinformation'], test_size=0.2, \n",
    "                                                                    stratify = text_df['misinformation'], random_state=42)"
   ]
  },
  {
   "cell_type": "markdown",
   "id": "96bd022e-e211-473e-a0fc-90b5505d5ccb",
   "metadata": {},
   "source": [
    "## Vetorizações"
   ]
  },
  {
   "cell_type": "code",
   "execution_count": 9,
   "id": "c9dd6f5a-c69d-43d2-a46c-4f0f21d287ba",
   "metadata": {},
   "outputs": [],
   "source": [
    "#BOW                                                                                                                                                                                                                                                                                                                                                                                                                                                                                                                                                                                                                                                                                                                                                                                                                                                                                                                                                                                                                                                                                                              \n",
    "vectorizer_bow = CountVectorizer(binary=True, ngram_range = (1,1))\n",
    "bow_transformer = vectorizer_bow.fit(X_train)\n",
    "X_bow_train = bow_transformer.transform(X_train)"
   ]
  },
  {
   "cell_type": "code",
   "execution_count": 10,
   "id": "3cf37396-f922-4126-84bd-b97391803037",
   "metadata": {},
   "outputs": [],
   "source": [
    "#TFIDF\n",
    "vectorizer_tfidf = TfidfVectorizer(ngram_range = (1,1))\n",
    "tfidf_transformer = vectorizer_tfidf.fit(X_train)\n",
    "X_tfidf_train = tfidf_transformer.transform(X_train)"
   ]
  },
  {
   "cell_type": "markdown",
   "id": "4158ca90-2ff0-4806-a453-ebb5dfa484cd",
   "metadata": {},
   "source": [
    "## Modelos"
   ]
  },
  {
   "cell_type": "code",
   "execution_count": 11,
   "id": "560df49c-aea2-483c-884b-ef6c376ad124",
   "metadata": {},
   "outputs": [],
   "source": [
    "SEED = 42"
   ]
  },
  {
   "cell_type": "code",
   "execution_count": 12,
   "id": "2434ddad-4cd1-4c5a-adce-a622bf898a0a",
   "metadata": {},
   "outputs": [],
   "source": [
    "scores = ['accuracy','f1','precision','recall','roc_auc']\n",
    "\n",
    "scores_df = pd.DataFrame(columns = ['modelo','vetorizacao','acuracia media','acuracia desvio',\n",
    "               'f1 media','f1 desvio',\n",
    "               'precisao media','precisao desvio',\n",
    "               'revocacao media','revocacao desvio',\n",
    "               'auc media','auc desvio'])"
   ]
  },
  {
   "cell_type": "markdown",
   "id": "c31ab417-a0d1-47f7-bd62-49e833378391",
   "metadata": {},
   "source": [
    "## Regressao Logistica"
   ]
  },
  {
   "cell_type": "markdown",
   "id": "99fbb3ee-0eb6-4d14-b998-d0b204068aa9",
   "metadata": {},
   "source": [
    "### BOW"
   ]
  },
  {
   "cell_type": "code",
   "execution_count": 13,
   "id": "d842c0a1-d619-499f-8161-c313d8cfe64c",
   "metadata": {},
   "outputs": [],
   "source": [
    "logreg = LogisticRegression()\n",
    "results_cv = cross_validate(logreg, X_bow_train, y_train, cv=10,scoring=scores)\n",
    "scores_df = scores_df.append({'modelo':'LogisticRegression','vetorizacao':'BOW',\n",
    "                                  'acuracia media':results_cv['test_accuracy'].mean(),'acuracia desvio':results_cv['test_accuracy'].std(),\n",
    "                                   'f1 media':results_cv['test_f1'].mean(),'f1 desvio':results_cv['test_f1'].std(),\n",
    "                                   'precisao media':results_cv['test_precision'].mean(),'precisao desvio':results_cv['test_precision'].std(),\n",
    "                                   'revocacao media':results_cv['test_recall'].mean(),'revocacao desvio':results_cv['test_recall'].std(),\n",
    "                                   'auc media':results_cv['test_roc_auc'].mean(),'auc desvio':results_cv['test_roc_auc'].std()},ignore_index=True)"
   ]
  },
  {
   "cell_type": "markdown",
   "id": "49d26956-e846-43f6-9322-9ef3069623ac",
   "metadata": {},
   "source": [
    "### TFIDF"
   ]
  },
  {
   "cell_type": "code",
   "execution_count": 14,
   "id": "8b21ed58-4795-4012-9546-fc82584d0e1b",
   "metadata": {},
   "outputs": [],
   "source": [
    "logreg = LogisticRegression()\n",
    "results_cv = cross_validate(logreg, X_tfidf_train, y_train, cv=10,scoring=scores)\n",
    "scores_df = scores_df.append({'modelo':'LogisticRegression','vetorizacao':'TFIDF',\n",
    "                              'acuracia media':results_cv['test_accuracy'].mean(),'acuracia desvio':results_cv['test_accuracy'].std(),\n",
    "                               'f1 media':results_cv['test_f1'].mean(),'f1 desvio':results_cv['test_f1'].std(),\n",
    "                               'precisao media':results_cv['test_precision'].mean(),'precisao desvio':results_cv['test_precision'].std(),\n",
    "                               'revocacao media':results_cv['test_recall'].mean(),'revocacao desvio':results_cv['test_recall'].std(),\n",
    "                               'auc media':results_cv['test_roc_auc'].mean(),'auc desvio':results_cv['test_roc_auc'].std()},ignore_index=True)"
   ]
  },
  {
   "cell_type": "markdown",
   "id": "afc675e6-8c3b-45b9-8a9a-bedb46f6931d",
   "metadata": {},
   "source": [
    "## Complement Naive Bayes"
   ]
  },
  {
   "cell_type": "markdown",
   "id": "787e8758-6b59-480a-9a52-750dc49edd57",
   "metadata": {
    "tags": []
   },
   "source": [
    "### BOW"
   ]
  },
  {
   "cell_type": "code",
   "execution_count": 15,
   "id": "b9125cab-b174-4f36-af6f-c9a82e829511",
   "metadata": {},
   "outputs": [],
   "source": [
    "cnb = ComplementNB()\n",
    "results_cv = cross_validate(cnb, X_bow_train, y_train, cv=10,scoring=scores)\n",
    "scores_df = scores_df.append({'modelo':'ComplementNB','vetorizacao':'BOW',\n",
    "                                  'acuracia media':results_cv['test_accuracy'].mean(),'acuracia desvio':results_cv['test_accuracy'].std(),\n",
    "                                   'f1 media':results_cv['test_f1'].mean(),'f1 desvio':results_cv['test_f1'].std(),\n",
    "                                   'precisao media':results_cv['test_precision'].mean(),'precisao desvio':results_cv['test_precision'].std(),\n",
    "                                   'revocacao media':results_cv['test_recall'].mean(),'revocacao desvio':results_cv['test_recall'].std(),\n",
    "                                   'auc media':results_cv['test_roc_auc'].mean(),'auc desvio':results_cv['test_roc_auc'].std()},ignore_index=True)"
   ]
  },
  {
   "cell_type": "markdown",
   "id": "b6b5822e-0040-45d0-8791-24fa0a317699",
   "metadata": {},
   "source": [
    "### TFIDF"
   ]
  },
  {
   "cell_type": "code",
   "execution_count": 16,
   "id": "c1ccd318-19b8-4d4e-a614-a4c5aa8c0a74",
   "metadata": {},
   "outputs": [],
   "source": [
    "cnb = ComplementNB()\n",
    "results_cv = cross_validate(cnb, X_tfidf_train, y_train, cv=10,scoring=scores)\n",
    "scores_df = scores_df.append({'modelo':'ComplementNB','vetorizacao':'TFIDF',\n",
    "                              'acuracia media':results_cv['test_accuracy'].mean(),'acuracia desvio':results_cv['test_accuracy'].std(),\n",
    "                               'f1 media':results_cv['test_f1'].mean(),'f1 desvio':results_cv['test_f1'].std(),\n",
    "                               'precisao media':results_cv['test_precision'].mean(),'precisao desvio':results_cv['test_precision'].std(),\n",
    "                               'revocacao media':results_cv['test_recall'].mean(),'revocacao desvio':results_cv['test_recall'].std(),\n",
    "                               'auc media':results_cv['test_roc_auc'].mean(),'auc desvio':results_cv['test_roc_auc'].std()},ignore_index=True)"
   ]
  },
  {
   "cell_type": "markdown",
   "id": "ba18cf8d-4d44-4e33-8e53-4bfb1ae17479",
   "metadata": {},
   "source": [
    "## Naive Bayes de Bernoulli"
   ]
  },
  {
   "cell_type": "markdown",
   "id": "7bf4df2e-f924-4c39-94a4-33a581c6fd9b",
   "metadata": {},
   "source": [
    "### BOW"
   ]
  },
  {
   "cell_type": "code",
   "execution_count": 17,
   "id": "8d50ed05-ea23-4522-aab0-90621d091665",
   "metadata": {},
   "outputs": [],
   "source": [
    "bnb = BernoulliNB()\n",
    "results_cv = cross_validate(bnb, X_bow_train, y_train, cv=10,scoring=scores)\n",
    "scores_df = scores_df.append({'modelo':'BernoulliNB','vetorizacao':'BOW',\n",
    "                                  'acuracia media':results_cv['test_accuracy'].mean(),'acuracia desvio':results_cv['test_accuracy'].std(),\n",
    "                                   'f1 media':results_cv['test_f1'].mean(),'f1 desvio':results_cv['test_f1'].std(),\n",
    "                                   'precisao media':results_cv['test_precision'].mean(),'precisao desvio':results_cv['test_precision'].std(),\n",
    "                                   'revocacao media':results_cv['test_recall'].mean(),'revocacao desvio':results_cv['test_recall'].std(),\n",
    "                                   'auc media':results_cv['test_roc_auc'].mean(),'auc desvio':results_cv['test_roc_auc'].std()},ignore_index=True)"
   ]
  },
  {
   "cell_type": "markdown",
   "id": "041499f7-2bfc-4d02-8fcb-b66e0ec6ba3d",
   "metadata": {},
   "source": [
    "### TFIDF"
   ]
  },
  {
   "cell_type": "code",
   "execution_count": 18,
   "id": "1428c884-4bab-4a7e-97b2-a8e70b2e76ec",
   "metadata": {},
   "outputs": [],
   "source": [
    "bnb = BernoulliNB()\n",
    "results_cv = cross_validate(bnb, X_tfidf_train, y_train, cv=10,scoring=scores)\n",
    "scores_df = scores_df.append({'modelo':'BernoulliNB','vetorizacao':'TFIDF',\n",
    "                                  'acuracia media':results_cv['test_accuracy'].mean(),'acuracia desvio':results_cv['test_accuracy'].std(),\n",
    "                                   'f1 media':results_cv['test_f1'].mean(),'f1 desvio':results_cv['test_f1'].std(),\n",
    "                                   'precisao media':results_cv['test_precision'].mean(),'precisao desvio':results_cv['test_precision'].std(),\n",
    "                                   'revocacao media':results_cv['test_recall'].mean(),'revocacao desvio':results_cv['test_recall'].std(),\n",
    "                                   'auc media':results_cv['test_roc_auc'].mean(),'auc desvio':results_cv['test_roc_auc'].std()},ignore_index=True)"
   ]
  },
  {
   "cell_type": "markdown",
   "id": "97f08dff-7954-45e2-949e-f7a25e5bc8fc",
   "metadata": {},
   "source": [
    "## Naive Bayes Multinominal"
   ]
  },
  {
   "cell_type": "markdown",
   "id": "19dfa9a5-ad2e-492e-9ca5-e2012d2c6347",
   "metadata": {},
   "source": [
    "### BOW"
   ]
  },
  {
   "cell_type": "code",
   "execution_count": 19,
   "id": "bfd6b235-8b8c-4dd7-8fea-8b150c288e02",
   "metadata": {},
   "outputs": [],
   "source": [
    "mnb = MultinomialNB()\n",
    "results_cv = cross_validate(mnb, X_bow_train, y_train, cv=10,scoring=scores)\n",
    "scores_df = scores_df.append({'modelo':'MultinomialNB','vetorizacao':'BOW',\n",
    "                                  'acuracia media':results_cv['test_accuracy'].mean(),'acuracia desvio':results_cv['test_accuracy'].std(),\n",
    "                                   'f1 media':results_cv['test_f1'].mean(),'f1 desvio':results_cv['test_f1'].std(),\n",
    "                                   'precisao media':results_cv['test_precision'].mean(),'precisao desvio':results_cv['test_precision'].std(),\n",
    "                                   'revocacao media':results_cv['test_recall'].mean(),'revocacao desvio':results_cv['test_recall'].std(),\n",
    "                                   'auc media':results_cv['test_roc_auc'].mean(),'auc desvio':results_cv['test_roc_auc'].std()},ignore_index=True)"
   ]
  },
  {
   "cell_type": "markdown",
   "id": "5d1b00cc-c275-4ddd-afb3-e839d7056ad2",
   "metadata": {},
   "source": [
    "### TFIDF"
   ]
  },
  {
   "cell_type": "code",
   "execution_count": 20,
   "id": "f6b9b722-667a-4b01-95f5-41400764ecc0",
   "metadata": {},
   "outputs": [],
   "source": [
    "mnb = MultinomialNB()\n",
    "results_cv = cross_validate(mnb, X_tfidf_train, y_train, cv=10,scoring=scores)\n",
    "scores_df = scores_df.append({'modelo':'MultinomialNB','vetorizacao':'TFIDF',\n",
    "                                  'acuracia media':results_cv['test_accuracy'].mean(),'acuracia desvio':results_cv['test_accuracy'].std(),\n",
    "                                   'f1 media':results_cv['test_f1'].mean(),'f1 desvio':results_cv['test_f1'].std(),\n",
    "                                   'precisao media':results_cv['test_precision'].mean(),'precisao desvio':results_cv['test_precision'].std(),\n",
    "                                   'revocacao media':results_cv['test_recall'].mean(),'revocacao desvio':results_cv['test_recall'].std(),\n",
    "                                   'auc media':results_cv['test_roc_auc'].mean(),'auc desvio':results_cv['test_roc_auc'].std()},ignore_index=True)"
   ]
  },
  {
   "cell_type": "markdown",
   "id": "922fba6e-6702-4648-b872-dde8c8408872",
   "metadata": {},
   "source": [
    "## SVM Linear"
   ]
  },
  {
   "cell_type": "markdown",
   "id": "4691123b-22ef-45d9-9c24-ad8f31629a48",
   "metadata": {},
   "source": [
    "### BOW"
   ]
  },
  {
   "cell_type": "code",
   "execution_count": 21,
   "id": "4406ab76-e9e7-4c36-8d4d-59221725707d",
   "metadata": {},
   "outputs": [
    {
     "name": "stderr",
     "output_type": "stream",
     "text": [
      "C:\\Users\\lmb3\\anaconda3\\envs\\fake_news_detector\\lib\\site-packages\\sklearn\\svm\\_base.py:1206: ConvergenceWarning: Liblinear failed to converge, increase the number of iterations.\n",
      "  warnings.warn(\n",
      "C:\\Users\\lmb3\\anaconda3\\envs\\fake_news_detector\\lib\\site-packages\\sklearn\\svm\\_base.py:1206: ConvergenceWarning: Liblinear failed to converge, increase the number of iterations.\n",
      "  warnings.warn(\n",
      "C:\\Users\\lmb3\\anaconda3\\envs\\fake_news_detector\\lib\\site-packages\\sklearn\\svm\\_base.py:1206: ConvergenceWarning: Liblinear failed to converge, increase the number of iterations.\n",
      "  warnings.warn(\n",
      "C:\\Users\\lmb3\\anaconda3\\envs\\fake_news_detector\\lib\\site-packages\\sklearn\\svm\\_base.py:1206: ConvergenceWarning: Liblinear failed to converge, increase the number of iterations.\n",
      "  warnings.warn(\n",
      "C:\\Users\\lmb3\\anaconda3\\envs\\fake_news_detector\\lib\\site-packages\\sklearn\\svm\\_base.py:1206: ConvergenceWarning: Liblinear failed to converge, increase the number of iterations.\n",
      "  warnings.warn(\n",
      "C:\\Users\\lmb3\\anaconda3\\envs\\fake_news_detector\\lib\\site-packages\\sklearn\\svm\\_base.py:1206: ConvergenceWarning: Liblinear failed to converge, increase the number of iterations.\n",
      "  warnings.warn(\n",
      "C:\\Users\\lmb3\\anaconda3\\envs\\fake_news_detector\\lib\\site-packages\\sklearn\\svm\\_base.py:1206: ConvergenceWarning: Liblinear failed to converge, increase the number of iterations.\n",
      "  warnings.warn(\n",
      "C:\\Users\\lmb3\\anaconda3\\envs\\fake_news_detector\\lib\\site-packages\\sklearn\\svm\\_base.py:1206: ConvergenceWarning: Liblinear failed to converge, increase the number of iterations.\n",
      "  warnings.warn(\n",
      "C:\\Users\\lmb3\\anaconda3\\envs\\fake_news_detector\\lib\\site-packages\\sklearn\\svm\\_base.py:1206: ConvergenceWarning: Liblinear failed to converge, increase the number of iterations.\n",
      "  warnings.warn(\n",
      "C:\\Users\\lmb3\\anaconda3\\envs\\fake_news_detector\\lib\\site-packages\\sklearn\\svm\\_base.py:1206: ConvergenceWarning: Liblinear failed to converge, increase the number of iterations.\n",
      "  warnings.warn(\n"
     ]
    }
   ],
   "source": [
    "svm = LinearSVC()\n",
    "results_cv = cross_validate(svm, X_bow_train, y_train, cv=10,scoring=scores)\n",
    "scores_df = scores_df.append({'modelo':'LinearSVC','vetorizacao':'BOW',\n",
    "                                  'acuracia media':results_cv['test_accuracy'].mean(),'acuracia desvio':results_cv['test_accuracy'].std(),\n",
    "                                   'f1 media':results_cv['test_f1'].mean(),'f1 desvio':results_cv['test_f1'].std(),\n",
    "                                   'precisao media':results_cv['test_precision'].mean(),'precisao desvio':results_cv['test_precision'].std(),\n",
    "                                   'revocacao media':results_cv['test_recall'].mean(),'revocacao desvio':results_cv['test_recall'].std(),\n",
    "                                   'auc media':results_cv['test_roc_auc'].mean(),'auc desvio':results_cv['test_roc_auc'].std()},ignore_index=True)"
   ]
  },
  {
   "cell_type": "markdown",
   "id": "cf04d33b-8593-4a4a-8e77-6ac7759e06af",
   "metadata": {},
   "source": [
    "### TFIDF"
   ]
  },
  {
   "cell_type": "code",
   "execution_count": 22,
   "id": "f0a4cfa9-f73c-4e91-9ad5-5cc08fffce57",
   "metadata": {},
   "outputs": [],
   "source": [
    "svm = LinearSVC()\n",
    "results_cv = cross_validate(mnb, X_tfidf_train, y_train, cv=10,scoring=scores)\n",
    "scores_df = scores_df.append({'modelo':'LinearSVC','vetorizacao':'TFIDF',\n",
    "                                  'acuracia media':results_cv['test_accuracy'].mean(),'acuracia desvio':results_cv['test_accuracy'].std(),\n",
    "                                   'f1 media':results_cv['test_f1'].mean(),'f1 desvio':results_cv['test_f1'].std(),\n",
    "                                   'precisao media':results_cv['test_precision'].mean(),'precisao desvio':results_cv['test_precision'].std(),\n",
    "                                   'revocacao media':results_cv['test_recall'].mean(),'revocacao desvio':results_cv['test_recall'].std(),\n",
    "                                   'auc media':results_cv['test_roc_auc'].mean(),'auc desvio':results_cv['test_roc_auc'].std()},ignore_index=True)"
   ]
  },
  {
   "cell_type": "markdown",
   "id": "0725aa50-b1cb-4034-ac7a-0a830f28374a",
   "metadata": {},
   "source": [
    "## Linear SVM with SGD training"
   ]
  },
  {
   "cell_type": "markdown",
   "id": "805a3eac-c747-499d-af2d-09761ddd44a4",
   "metadata": {},
   "source": [
    "### BOW"
   ]
  },
  {
   "cell_type": "code",
   "execution_count": 23,
   "id": "af25944a-56d5-4567-aece-5cf58ff6fc07",
   "metadata": {},
   "outputs": [],
   "source": [
    "sgd = SGDClassifier()\n",
    "results_cv = cross_validate(sgd, X_bow_train, y_train, cv=10,scoring=scores)\n",
    "scores_df = scores_df.append({'modelo':'SGDClassifier','vetorizacao':'BOW',\n",
    "                                  'acuracia media':results_cv['test_accuracy'].mean(),'acuracia desvio':results_cv['test_accuracy'].std(),\n",
    "                                   'f1 media':results_cv['test_f1'].mean(),'f1 desvio':results_cv['test_f1'].std(),\n",
    "                                   'precisao media':results_cv['test_precision'].mean(),'precisao desvio':results_cv['test_precision'].std(),\n",
    "                                   'revocacao media':results_cv['test_recall'].mean(),'revocacao desvio':results_cv['test_recall'].std(),\n",
    "                                   'auc media':results_cv['test_roc_auc'].mean(),'auc desvio':results_cv['test_roc_auc'].std()},ignore_index=True)"
   ]
  },
  {
   "cell_type": "markdown",
   "id": "621eebb6-fc4c-4cd5-bb82-145551c13c39",
   "metadata": {},
   "source": [
    "### TFIDF"
   ]
  },
  {
   "cell_type": "code",
   "execution_count": 24,
   "id": "49d4f36e-e114-41d9-b84d-af5e0fa3140b",
   "metadata": {},
   "outputs": [],
   "source": [
    "sgd = SGDClassifier()\n",
    "results_cv = cross_validate(sgd, X_tfidf_train, y_train, cv=10,scoring=scores)\n",
    "scores_df = scores_df.append({'modelo':'SGDClassifier','vetorizacao':'TFIDF',\n",
    "                                  'acuracia media':results_cv['test_accuracy'].mean(),'acuracia desvio':results_cv['test_accuracy'].std(),\n",
    "                                   'f1 media':results_cv['test_f1'].mean(),'f1 desvio':results_cv['test_f1'].std(),\n",
    "                                   'precisao media':results_cv['test_precision'].mean(),'precisao desvio':results_cv['test_precision'].std(),\n",
    "                                   'revocacao media':results_cv['test_recall'].mean(),'revocacao desvio':results_cv['test_recall'].std(),\n",
    "                                   'auc media':results_cv['test_roc_auc'].mean(),'auc desvio':results_cv['test_roc_auc'].std()},ignore_index=True)"
   ]
  },
  {
   "cell_type": "markdown",
   "id": "740491ed-7ed1-4498-b397-73e1976e36bc",
   "metadata": {
    "tags": []
   },
   "source": [
    "## RBF SVM"
   ]
  },
  {
   "cell_type": "markdown",
   "id": "227d80c0-4981-47a7-bc2c-16e4b96de2c1",
   "metadata": {},
   "source": [
    "### BOW"
   ]
  },
  {
   "cell_type": "code",
   "execution_count": 25,
   "id": "ea68ac0c-83f4-42d4-9717-627855d10ebb",
   "metadata": {},
   "outputs": [],
   "source": [
    "svc = SVC()\n",
    "results_cv = cross_validate(svc, X_bow_train, y_train, cv=10,scoring=scores)\n",
    "scores_df = scores_df.append({'modelo':'SVC','vetorizacao':'BOW',\n",
    "                                  'acuracia media':results_cv['test_accuracy'].mean(),'acuracia desvio':results_cv['test_accuracy'].std(),\n",
    "                                   'f1 media':results_cv['test_f1'].mean(),'f1 desvio':results_cv['test_f1'].std(),\n",
    "                                   'precisao media':results_cv['test_precision'].mean(),'precisao desvio':results_cv['test_precision'].std(),\n",
    "                                   'revocacao media':results_cv['test_recall'].mean(),'revocacao desvio':results_cv['test_recall'].std(),\n",
    "                                   'auc media':results_cv['test_roc_auc'].mean(),'auc desvio':results_cv['test_roc_auc'].std()},ignore_index=True)"
   ]
  },
  {
   "cell_type": "markdown",
   "id": "e300ad73-fd12-4c74-ab87-91efb0137620",
   "metadata": {},
   "source": [
    "### TFIDF"
   ]
  },
  {
   "cell_type": "code",
   "execution_count": 26,
   "id": "29d68c6d-7b19-4eee-9950-1c6d8298b35b",
   "metadata": {},
   "outputs": [],
   "source": [
    "svc = SVC()\n",
    "results_cv = cross_validate(svc, X_tfidf_train, y_train, cv=10,scoring=scores)\n",
    "scores_df = scores_df.append({'modelo':'SVC','vetorizacao':'TFIDF',\n",
    "                                  'acuracia media':results_cv['test_accuracy'].mean(),'acuracia desvio':results_cv['test_accuracy'].std(),\n",
    "                                   'f1 media':results_cv['test_f1'].mean(),'f1 desvio':results_cv['test_f1'].std(),\n",
    "                                   'precisao media':results_cv['test_precision'].mean(),'precisao desvio':results_cv['test_precision'].std(),\n",
    "                                   'revocacao media':results_cv['test_recall'].mean(),'revocacao desvio':results_cv['test_recall'].std(),\n",
    "                                   'auc media':results_cv['test_roc_auc'].mean(),'auc desvio':results_cv['test_roc_auc'].std()},ignore_index=True)"
   ]
  },
  {
   "cell_type": "markdown",
   "id": "ee723463-201c-4a19-84a4-e5a0e9ef67f0",
   "metadata": {},
   "source": [
    "## KNN"
   ]
  },
  {
   "cell_type": "markdown",
   "id": "3233c401-5259-45dd-9d3b-c669bdb70773",
   "metadata": {},
   "source": [
    "### BOW"
   ]
  },
  {
   "cell_type": "code",
   "execution_count": 27,
   "id": "646015ab-5208-45ed-86b2-290aa08f5723",
   "metadata": {},
   "outputs": [],
   "source": [
    "knn = KNeighborsClassifier(n_jobs=-1)\n",
    "results_cv = cross_validate(knn, X_bow_train, y_train, cv=10,scoring=scores)\n",
    "scores_df = scores_df.append({'modelo':'KNeighborsClassifier','vetorizacao':'BOW',\n",
    "                                  'acuracia media':results_cv['test_accuracy'].mean(),'acuracia desvio':results_cv['test_accuracy'].std(),\n",
    "                                   'f1 media':results_cv['test_f1'].mean(),'f1 desvio':results_cv['test_f1'].std(),\n",
    "                                   'precisao media':results_cv['test_precision'].mean(),'precisao desvio':results_cv['test_precision'].std(),\n",
    "                                   'revocacao media':results_cv['test_recall'].mean(),'revocacao desvio':results_cv['test_recall'].std(),\n",
    "                                   'auc media':results_cv['test_roc_auc'].mean(),'auc desvio':results_cv['test_roc_auc'].std()},ignore_index=True)"
   ]
  },
  {
   "cell_type": "markdown",
   "id": "adbbaf78-4e67-451d-badd-798b4785b6bf",
   "metadata": {},
   "source": [
    "### TFIDF"
   ]
  },
  {
   "cell_type": "code",
   "execution_count": 28,
   "id": "46d89d99-2878-4dfb-8b4b-21240a794a04",
   "metadata": {},
   "outputs": [],
   "source": [
    "knn = KNeighborsClassifier(n_jobs=-1)\n",
    "results_cv = cross_validate(knn, X_tfidf_train, y_train, cv=10,scoring=scores)\n",
    "scores_df = scores_df.append({'modelo':'KNeighborsClassifier','vetorizacao':'TFIDF',\n",
    "                                  'acuracia media':results_cv['test_accuracy'].mean(),'acuracia desvio':results_cv['test_accuracy'].std(),\n",
    "                                   'f1 media':results_cv['test_f1'].mean(),'f1 desvio':results_cv['test_f1'].std(),\n",
    "                                   'precisao media':results_cv['test_precision'].mean(),'precisao desvio':results_cv['test_precision'].std(),\n",
    "                                   'revocacao media':results_cv['test_recall'].mean(),'revocacao desvio':results_cv['test_recall'].std(),\n",
    "                                   'auc media':results_cv['test_roc_auc'].mean(),'auc desvio':results_cv['test_roc_auc'].std()},ignore_index=True)"
   ]
  },
  {
   "cell_type": "markdown",
   "id": "3e3e3ffa-63fa-422b-839e-4888680b3804",
   "metadata": {},
   "source": [
    "## Random Forest"
   ]
  },
  {
   "cell_type": "markdown",
   "id": "69f0379c-ceb0-4eec-a5b9-79233e49eecb",
   "metadata": {},
   "source": [
    "### BOW"
   ]
  },
  {
   "cell_type": "code",
   "execution_count": 29,
   "id": "baf027fa-5733-41d9-bf72-6f7ffe9fb144",
   "metadata": {},
   "outputs": [],
   "source": [
    "rf = RandomForestClassifier()\n",
    "results_cv = cross_validate(rf, X_bow_train, y_train, cv=10,scoring=scores)\n",
    "scores_df = scores_df.append({'modelo':'RandomForestClassifier','vetorizacao':'BOW',\n",
    "                                  'acuracia media':results_cv['test_accuracy'].mean(),'acuracia desvio':results_cv['test_accuracy'].std(),\n",
    "                                   'f1 media':results_cv['test_f1'].mean(),'f1 desvio':results_cv['test_f1'].std(),\n",
    "                                   'precisao media':results_cv['test_precision'].mean(),'precisao desvio':results_cv['test_precision'].std(),\n",
    "                                   'revocacao media':results_cv['test_recall'].mean(),'revocacao desvio':results_cv['test_recall'].std(),\n",
    "                                   'auc media':results_cv['test_roc_auc'].mean(),'auc desvio':results_cv['test_roc_auc'].std()},ignore_index=True)"
   ]
  },
  {
   "cell_type": "markdown",
   "id": "24610775-b83b-4cf1-b856-bae79ff99aea",
   "metadata": {},
   "source": [
    "### TFIDF"
   ]
  },
  {
   "cell_type": "code",
   "execution_count": 30,
   "id": "aaf1be9d-aade-4ed6-b4a9-f49d1d72f0cd",
   "metadata": {},
   "outputs": [],
   "source": [
    "rf = RandomForestClassifier()\n",
    "results_cv = cross_validate(rf, X_tfidf_train, y_train, cv=10,scoring=scores)\n",
    "scores_df = scores_df.append({'modelo':'RandomForestClassifier','vetorizacao':'TFIDF',\n",
    "                                  'acuracia media':results_cv['test_accuracy'].mean(),'acuracia desvio':results_cv['test_accuracy'].std(),\n",
    "                                   'f1 media':results_cv['test_f1'].mean(),'f1 desvio':results_cv['test_f1'].std(),\n",
    "                                   'precisao media':results_cv['test_precision'].mean(),'precisao desvio':results_cv['test_precision'].std(),\n",
    "                                   'revocacao media':results_cv['test_recall'].mean(),'revocacao desvio':results_cv['test_recall'].std(),\n",
    "                                   'auc media':results_cv['test_roc_auc'].mean(),'auc desvio':results_cv['test_roc_auc'].std()},ignore_index=True)"
   ]
  },
  {
   "cell_type": "markdown",
   "id": "c7b52168-61b9-4ee5-9079-bc7e240dc709",
   "metadata": {},
   "source": [
    "## Gradient Boosting"
   ]
  },
  {
   "cell_type": "markdown",
   "id": "9aed4f54-53db-4acc-818c-7d811b53b8a3",
   "metadata": {},
   "source": [
    "### BOW"
   ]
  },
  {
   "cell_type": "code",
   "execution_count": 31,
   "id": "f28e140a-b41c-4519-85be-e6289335693b",
   "metadata": {},
   "outputs": [],
   "source": [
    "gb = GradientBoostingClassifier()\n",
    "results_cv = cross_validate(gb, X_bow_train, y_train, cv=10,scoring=scores)\n",
    "scores_df = scores_df.append({'modelo':'GradientBoostingClassifier','vetorizacao':'BOW',\n",
    "                                  'acuracia media':results_cv['test_accuracy'].mean(),'acuracia desvio':results_cv['test_accuracy'].std(),\n",
    "                                   'f1 media':results_cv['test_f1'].mean(),'f1 desvio':results_cv['test_f1'].std(),\n",
    "                                   'precisao media':results_cv['test_precision'].mean(),'precisao desvio':results_cv['test_precision'].std(),\n",
    "                                   'revocacao media':results_cv['test_recall'].mean(),'revocacao desvio':results_cv['test_recall'].std(),\n",
    "                                   'auc media':results_cv['test_roc_auc'].mean(),'auc desvio':results_cv['test_roc_auc'].std()},ignore_index=True)"
   ]
  },
  {
   "cell_type": "markdown",
   "id": "d299b6b7-4277-4c47-963c-65a55d2e141a",
   "metadata": {},
   "source": [
    "### TFIDF"
   ]
  },
  {
   "cell_type": "code",
   "execution_count": 32,
   "id": "f85194ad-0da9-462a-b307-951f950b8f10",
   "metadata": {},
   "outputs": [],
   "source": [
    "gb = GradientBoostingClassifier()\n",
    "results_cv = cross_validate(gb, X_tfidf_train, y_train, cv=10,scoring=scores)\n",
    "scores_df = scores_df.append({'modelo':'GradientBoostingClassifier','vetorizacao':'TFIDF',\n",
    "                                  'acuracia media':results_cv['test_accuracy'].mean(),'acuracia desvio':results_cv['test_accuracy'].std(),\n",
    "                                   'f1 media':results_cv['test_f1'].mean(),'f1 desvio':results_cv['test_f1'].std(),\n",
    "                                   'precisao media':results_cv['test_precision'].mean(),'precisao desvio':results_cv['test_precision'].std(),\n",
    "                                   'revocacao media':results_cv['test_recall'].mean(),'revocacao desvio':results_cv['test_recall'].std(),\n",
    "                                   'auc media':results_cv['test_roc_auc'].mean(),'auc desvio':results_cv['test_roc_auc'].std()},ignore_index=True)"
   ]
  },
  {
   "cell_type": "markdown",
   "id": "a7e49eb3-4b2f-43ba-beeb-c16a5b82e3db",
   "metadata": {
    "tags": []
   },
   "source": [
    "## Multilayer Perceptron"
   ]
  },
  {
   "cell_type": "markdown",
   "id": "a0a2bb18-7058-44e7-9a78-3ad2e5a87695",
   "metadata": {},
   "source": [
    "### BOW"
   ]
  },
  {
   "cell_type": "code",
   "execution_count": 33,
   "id": "9bda6f20-125c-4da2-93d7-b9cf3b1fa3d3",
   "metadata": {},
   "outputs": [
    {
     "name": "stderr",
     "output_type": "stream",
     "text": [
      "C:\\Users\\lmb3\\anaconda3\\envs\\fake_news_detector\\lib\\site-packages\\sklearn\\neural_network\\_multilayer_perceptron.py:692: ConvergenceWarning: Stochastic Optimizer: Maximum iterations (5) reached and the optimization hasn't converged yet.\n",
      "  warnings.warn(\n",
      "C:\\Users\\lmb3\\anaconda3\\envs\\fake_news_detector\\lib\\site-packages\\sklearn\\neural_network\\_multilayer_perceptron.py:692: ConvergenceWarning: Stochastic Optimizer: Maximum iterations (5) reached and the optimization hasn't converged yet.\n",
      "  warnings.warn(\n",
      "C:\\Users\\lmb3\\anaconda3\\envs\\fake_news_detector\\lib\\site-packages\\sklearn\\neural_network\\_multilayer_perceptron.py:692: ConvergenceWarning: Stochastic Optimizer: Maximum iterations (5) reached and the optimization hasn't converged yet.\n",
      "  warnings.warn(\n",
      "C:\\Users\\lmb3\\anaconda3\\envs\\fake_news_detector\\lib\\site-packages\\sklearn\\neural_network\\_multilayer_perceptron.py:692: ConvergenceWarning: Stochastic Optimizer: Maximum iterations (5) reached and the optimization hasn't converged yet.\n",
      "  warnings.warn(\n",
      "C:\\Users\\lmb3\\anaconda3\\envs\\fake_news_detector\\lib\\site-packages\\sklearn\\neural_network\\_multilayer_perceptron.py:692: ConvergenceWarning: Stochastic Optimizer: Maximum iterations (5) reached and the optimization hasn't converged yet.\n",
      "  warnings.warn(\n",
      "C:\\Users\\lmb3\\anaconda3\\envs\\fake_news_detector\\lib\\site-packages\\sklearn\\neural_network\\_multilayer_perceptron.py:692: ConvergenceWarning: Stochastic Optimizer: Maximum iterations (5) reached and the optimization hasn't converged yet.\n",
      "  warnings.warn(\n",
      "C:\\Users\\lmb3\\anaconda3\\envs\\fake_news_detector\\lib\\site-packages\\sklearn\\neural_network\\_multilayer_perceptron.py:692: ConvergenceWarning: Stochastic Optimizer: Maximum iterations (5) reached and the optimization hasn't converged yet.\n",
      "  warnings.warn(\n",
      "C:\\Users\\lmb3\\anaconda3\\envs\\fake_news_detector\\lib\\site-packages\\sklearn\\neural_network\\_multilayer_perceptron.py:692: ConvergenceWarning: Stochastic Optimizer: Maximum iterations (5) reached and the optimization hasn't converged yet.\n",
      "  warnings.warn(\n",
      "C:\\Users\\lmb3\\anaconda3\\envs\\fake_news_detector\\lib\\site-packages\\sklearn\\neural_network\\_multilayer_perceptron.py:692: ConvergenceWarning: Stochastic Optimizer: Maximum iterations (5) reached and the optimization hasn't converged yet.\n",
      "  warnings.warn(\n",
      "C:\\Users\\lmb3\\anaconda3\\envs\\fake_news_detector\\lib\\site-packages\\sklearn\\neural_network\\_multilayer_perceptron.py:692: ConvergenceWarning: Stochastic Optimizer: Maximum iterations (5) reached and the optimization hasn't converged yet.\n",
      "  warnings.warn(\n"
     ]
    }
   ],
   "source": [
    "mlp = MLPClassifier(max_iter = 5, early_stopping= True)\n",
    "results_cv = cross_validate(mlp, X_bow_train, y_train, cv=10,scoring=scores)\n",
    "scores_df = scores_df.append({'modelo':'MLPClassifier','vetorizacao':'BOW',\n",
    "                                  'acuracia media':results_cv['test_accuracy'].mean(),'acuracia desvio':results_cv['test_accuracy'].std(),\n",
    "                                   'f1 media':results_cv['test_f1'].mean(),'f1 desvio':results_cv['test_f1'].std(),\n",
    "                                   'precisao media':results_cv['test_precision'].mean(),'precisao desvio':results_cv['test_precision'].std(),\n",
    "                                   'revocacao media':results_cv['test_recall'].mean(),'revocacao desvio':results_cv['test_recall'].std(),\n",
    "                                   'auc media':results_cv['test_roc_auc'].mean(),'auc desvio':results_cv['test_roc_auc'].std()},ignore_index=True)"
   ]
  },
  {
   "cell_type": "markdown",
   "id": "4b4fbda1-7b50-4f0c-8947-8ac8c000efc7",
   "metadata": {},
   "source": [
    "### TFIDF"
   ]
  },
  {
   "cell_type": "code",
   "execution_count": 34,
   "id": "8fd337ca-948d-4964-859e-b2989ea2b30b",
   "metadata": {},
   "outputs": [
    {
     "name": "stderr",
     "output_type": "stream",
     "text": [
      "C:\\Users\\lmb3\\anaconda3\\envs\\fake_news_detector\\lib\\site-packages\\sklearn\\neural_network\\_multilayer_perceptron.py:692: ConvergenceWarning: Stochastic Optimizer: Maximum iterations (5) reached and the optimization hasn't converged yet.\n",
      "  warnings.warn(\n",
      "C:\\Users\\lmb3\\anaconda3\\envs\\fake_news_detector\\lib\\site-packages\\sklearn\\neural_network\\_multilayer_perceptron.py:692: ConvergenceWarning: Stochastic Optimizer: Maximum iterations (5) reached and the optimization hasn't converged yet.\n",
      "  warnings.warn(\n",
      "C:\\Users\\lmb3\\anaconda3\\envs\\fake_news_detector\\lib\\site-packages\\sklearn\\neural_network\\_multilayer_perceptron.py:692: ConvergenceWarning: Stochastic Optimizer: Maximum iterations (5) reached and the optimization hasn't converged yet.\n",
      "  warnings.warn(\n",
      "C:\\Users\\lmb3\\anaconda3\\envs\\fake_news_detector\\lib\\site-packages\\sklearn\\neural_network\\_multilayer_perceptron.py:692: ConvergenceWarning: Stochastic Optimizer: Maximum iterations (5) reached and the optimization hasn't converged yet.\n",
      "  warnings.warn(\n",
      "C:\\Users\\lmb3\\anaconda3\\envs\\fake_news_detector\\lib\\site-packages\\sklearn\\neural_network\\_multilayer_perceptron.py:692: ConvergenceWarning: Stochastic Optimizer: Maximum iterations (5) reached and the optimization hasn't converged yet.\n",
      "  warnings.warn(\n",
      "C:\\Users\\lmb3\\anaconda3\\envs\\fake_news_detector\\lib\\site-packages\\sklearn\\neural_network\\_multilayer_perceptron.py:692: ConvergenceWarning: Stochastic Optimizer: Maximum iterations (5) reached and the optimization hasn't converged yet.\n",
      "  warnings.warn(\n",
      "C:\\Users\\lmb3\\anaconda3\\envs\\fake_news_detector\\lib\\site-packages\\sklearn\\neural_network\\_multilayer_perceptron.py:692: ConvergenceWarning: Stochastic Optimizer: Maximum iterations (5) reached and the optimization hasn't converged yet.\n",
      "  warnings.warn(\n",
      "C:\\Users\\lmb3\\anaconda3\\envs\\fake_news_detector\\lib\\site-packages\\sklearn\\neural_network\\_multilayer_perceptron.py:692: ConvergenceWarning: Stochastic Optimizer: Maximum iterations (5) reached and the optimization hasn't converged yet.\n",
      "  warnings.warn(\n",
      "C:\\Users\\lmb3\\anaconda3\\envs\\fake_news_detector\\lib\\site-packages\\sklearn\\neural_network\\_multilayer_perceptron.py:692: ConvergenceWarning: Stochastic Optimizer: Maximum iterations (5) reached and the optimization hasn't converged yet.\n",
      "  warnings.warn(\n",
      "C:\\Users\\lmb3\\anaconda3\\envs\\fake_news_detector\\lib\\site-packages\\sklearn\\neural_network\\_multilayer_perceptron.py:692: ConvergenceWarning: Stochastic Optimizer: Maximum iterations (5) reached and the optimization hasn't converged yet.\n",
      "  warnings.warn(\n"
     ]
    }
   ],
   "source": [
    "mlp = MLPClassifier(max_iter = 5, early_stopping= True)\n",
    "results_cv = cross_validate(mlp, X_tfidf_train, y_train, cv=10,scoring=scores)\n",
    "scores_df = scores_df.append({'modelo':'MLPClassifier','vetorizacao':'TFIDF',\n",
    "                                  'acuracia media':results_cv['test_accuracy'].mean(),'acuracia desvio':results_cv['test_accuracy'].std(),\n",
    "                                   'f1 media':results_cv['test_f1'].mean(),'f1 desvio':results_cv['test_f1'].std(),\n",
    "                                   'precisao media':results_cv['test_precision'].mean(),'precisao desvio':results_cv['test_precision'].std(),\n",
    "                                   'revocacao media':results_cv['test_recall'].mean(),'revocacao desvio':results_cv['test_recall'].std(),\n",
    "                                   'auc media':results_cv['test_roc_auc'].mean(),'auc desvio':results_cv['test_roc_auc'].std()},ignore_index=True)"
   ]
  },
  {
   "cell_type": "markdown",
   "id": "b7f24ca4-c232-45f7-b2c2-1de0ec842edb",
   "metadata": {},
   "source": [
    "# Melhores Resultados (ate aqui)"
   ]
  },
  {
   "cell_type": "code",
   "execution_count": 35,
   "id": "4f915757-b78f-4ad1-85fe-34ea3a31473d",
   "metadata": {},
   "outputs": [
    {
     "data": {
      "text/html": [
       "<div>\n",
       "<style scoped>\n",
       "    .dataframe tbody tr th:only-of-type {\n",
       "        vertical-align: middle;\n",
       "    }\n",
       "\n",
       "    .dataframe tbody tr th {\n",
       "        vertical-align: top;\n",
       "    }\n",
       "\n",
       "    .dataframe thead th {\n",
       "        text-align: right;\n",
       "    }\n",
       "</style>\n",
       "<table border=\"1\" class=\"dataframe\">\n",
       "  <thead>\n",
       "    <tr style=\"text-align: right;\">\n",
       "      <th></th>\n",
       "      <th>modelo</th>\n",
       "      <th>vetorizacao</th>\n",
       "      <th>acuracia media</th>\n",
       "      <th>acuracia desvio</th>\n",
       "      <th>f1 media</th>\n",
       "      <th>f1 desvio</th>\n",
       "      <th>precisao media</th>\n",
       "      <th>precisao desvio</th>\n",
       "      <th>revocacao media</th>\n",
       "      <th>revocacao desvio</th>\n",
       "      <th>auc media</th>\n",
       "      <th>auc desvio</th>\n",
       "    </tr>\n",
       "  </thead>\n",
       "  <tbody>\n",
       "    <tr>\n",
       "      <th>3</th>\n",
       "      <td>ComplementNB</td>\n",
       "      <td>TFIDF</td>\n",
       "      <td>0.739782</td>\n",
       "      <td>0.017287</td>\n",
       "      <td>0.744887</td>\n",
       "      <td>0.015510</td>\n",
       "      <td>0.661143</td>\n",
       "      <td>0.018137</td>\n",
       "      <td>0.853681</td>\n",
       "      <td>0.025994</td>\n",
       "      <td>0.849126</td>\n",
       "      <td>0.016546</td>\n",
       "    </tr>\n",
       "    <tr>\n",
       "      <th>20</th>\n",
       "      <td>MLPClassifier</td>\n",
       "      <td>BOW</td>\n",
       "      <td>0.769210</td>\n",
       "      <td>0.019269</td>\n",
       "      <td>0.738438</td>\n",
       "      <td>0.020382</td>\n",
       "      <td>0.746995</td>\n",
       "      <td>0.035461</td>\n",
       "      <td>0.732388</td>\n",
       "      <td>0.036609</td>\n",
       "      <td>0.848066</td>\n",
       "      <td>0.018408</td>\n",
       "    </tr>\n",
       "    <tr>\n",
       "      <th>21</th>\n",
       "      <td>MLPClassifier</td>\n",
       "      <td>TFIDF</td>\n",
       "      <td>0.770027</td>\n",
       "      <td>0.014884</td>\n",
       "      <td>0.735190</td>\n",
       "      <td>0.015544</td>\n",
       "      <td>0.755860</td>\n",
       "      <td>0.032290</td>\n",
       "      <td>0.717694</td>\n",
       "      <td>0.032050</td>\n",
       "      <td>0.855410</td>\n",
       "      <td>0.014457</td>\n",
       "    </tr>\n",
       "    <tr>\n",
       "      <th>7</th>\n",
       "      <td>MultinomialNB</td>\n",
       "      <td>TFIDF</td>\n",
       "      <td>0.755858</td>\n",
       "      <td>0.019390</td>\n",
       "      <td>0.732169</td>\n",
       "      <td>0.023061</td>\n",
       "      <td>0.715155</td>\n",
       "      <td>0.020845</td>\n",
       "      <td>0.750793</td>\n",
       "      <td>0.034825</td>\n",
       "      <td>0.849126</td>\n",
       "      <td>0.016546</td>\n",
       "    </tr>\n",
       "    <tr>\n",
       "      <th>9</th>\n",
       "      <td>LinearSVC</td>\n",
       "      <td>TFIDF</td>\n",
       "      <td>0.755858</td>\n",
       "      <td>0.019390</td>\n",
       "      <td>0.732169</td>\n",
       "      <td>0.023061</td>\n",
       "      <td>0.715155</td>\n",
       "      <td>0.020845</td>\n",
       "      <td>0.750793</td>\n",
       "      <td>0.034825</td>\n",
       "      <td>0.849126</td>\n",
       "      <td>0.016546</td>\n",
       "    </tr>\n",
       "    <tr>\n",
       "      <th>11</th>\n",
       "      <td>SGDClassifier</td>\n",
       "      <td>TFIDF</td>\n",
       "      <td>0.762670</td>\n",
       "      <td>0.021367</td>\n",
       "      <td>0.730128</td>\n",
       "      <td>0.023030</td>\n",
       "      <td>0.739747</td>\n",
       "      <td>0.028229</td>\n",
       "      <td>0.721413</td>\n",
       "      <td>0.027826</td>\n",
       "      <td>0.843185</td>\n",
       "      <td>0.012149</td>\n",
       "    </tr>\n",
       "    <tr>\n",
       "      <th>6</th>\n",
       "      <td>MultinomialNB</td>\n",
       "      <td>BOW</td>\n",
       "      <td>0.738420</td>\n",
       "      <td>0.019497</td>\n",
       "      <td>0.729930</td>\n",
       "      <td>0.018843</td>\n",
       "      <td>0.675654</td>\n",
       "      <td>0.021588</td>\n",
       "      <td>0.794254</td>\n",
       "      <td>0.024623</td>\n",
       "      <td>0.828275</td>\n",
       "      <td>0.019037</td>\n",
       "    </tr>\n",
       "    <tr>\n",
       "      <th>2</th>\n",
       "      <td>ComplementNB</td>\n",
       "      <td>BOW</td>\n",
       "      <td>0.734332</td>\n",
       "      <td>0.020832</td>\n",
       "      <td>0.729815</td>\n",
       "      <td>0.018807</td>\n",
       "      <td>0.667361</td>\n",
       "      <td>0.023620</td>\n",
       "      <td>0.805888</td>\n",
       "      <td>0.023679</td>\n",
       "      <td>0.828282</td>\n",
       "      <td>0.019037</td>\n",
       "    </tr>\n",
       "    <tr>\n",
       "      <th>0</th>\n",
       "      <td>LogisticRegression</td>\n",
       "      <td>BOW</td>\n",
       "      <td>0.766485</td>\n",
       "      <td>0.015702</td>\n",
       "      <td>0.728089</td>\n",
       "      <td>0.018910</td>\n",
       "      <td>0.755859</td>\n",
       "      <td>0.022778</td>\n",
       "      <td>0.703019</td>\n",
       "      <td>0.027779</td>\n",
       "      <td>0.847032</td>\n",
       "      <td>0.014468</td>\n",
       "    </tr>\n",
       "    <tr>\n",
       "      <th>13</th>\n",
       "      <td>SVC</td>\n",
       "      <td>TFIDF</td>\n",
       "      <td>0.776839</td>\n",
       "      <td>0.015627</td>\n",
       "      <td>0.723696</td>\n",
       "      <td>0.019668</td>\n",
       "      <td>0.806282</td>\n",
       "      <td>0.026118</td>\n",
       "      <td>0.657093</td>\n",
       "      <td>0.025291</td>\n",
       "      <td>0.865389</td>\n",
       "      <td>0.016405</td>\n",
       "    </tr>\n",
       "    <tr>\n",
       "      <th>1</th>\n",
       "      <td>LogisticRegression</td>\n",
       "      <td>TFIDF</td>\n",
       "      <td>0.770027</td>\n",
       "      <td>0.014377</td>\n",
       "      <td>0.717767</td>\n",
       "      <td>0.016311</td>\n",
       "      <td>0.791320</td>\n",
       "      <td>0.024152</td>\n",
       "      <td>0.657096</td>\n",
       "      <td>0.017880</td>\n",
       "      <td>0.849702</td>\n",
       "      <td>0.017979</td>\n",
       "    </tr>\n",
       "    <tr>\n",
       "      <th>10</th>\n",
       "      <td>SGDClassifier</td>\n",
       "      <td>BOW</td>\n",
       "      <td>0.753406</td>\n",
       "      <td>0.014787</td>\n",
       "      <td>0.714967</td>\n",
       "      <td>0.020154</td>\n",
       "      <td>0.736583</td>\n",
       "      <td>0.023319</td>\n",
       "      <td>0.696255</td>\n",
       "      <td>0.037885</td>\n",
       "      <td>0.823414</td>\n",
       "      <td>0.008124</td>\n",
       "    </tr>\n",
       "    <tr>\n",
       "      <th>8</th>\n",
       "      <td>LinearSVC</td>\n",
       "      <td>BOW</td>\n",
       "      <td>0.742234</td>\n",
       "      <td>0.015944</td>\n",
       "      <td>0.708173</td>\n",
       "      <td>0.016381</td>\n",
       "      <td>0.714711</td>\n",
       "      <td>0.026383</td>\n",
       "      <td>0.703004</td>\n",
       "      <td>0.027690</td>\n",
       "      <td>0.814190</td>\n",
       "      <td>0.013709</td>\n",
       "    </tr>\n",
       "    <tr>\n",
       "      <th>12</th>\n",
       "      <td>SVC</td>\n",
       "      <td>BOW</td>\n",
       "      <td>0.759401</td>\n",
       "      <td>0.026531</td>\n",
       "      <td>0.703961</td>\n",
       "      <td>0.033726</td>\n",
       "      <td>0.778724</td>\n",
       "      <td>0.041740</td>\n",
       "      <td>0.643611</td>\n",
       "      <td>0.040594</td>\n",
       "      <td>0.838701</td>\n",
       "      <td>0.018583</td>\n",
       "    </tr>\n",
       "    <tr>\n",
       "      <th>16</th>\n",
       "      <td>RandomForestClassifier</td>\n",
       "      <td>BOW</td>\n",
       "      <td>0.758583</td>\n",
       "      <td>0.020866</td>\n",
       "      <td>0.686311</td>\n",
       "      <td>0.027944</td>\n",
       "      <td>0.814007</td>\n",
       "      <td>0.035864</td>\n",
       "      <td>0.594003</td>\n",
       "      <td>0.031143</td>\n",
       "      <td>0.845353</td>\n",
       "      <td>0.018940</td>\n",
       "    </tr>\n",
       "    <tr>\n",
       "      <th>17</th>\n",
       "      <td>RandomForestClassifier</td>\n",
       "      <td>TFIDF</td>\n",
       "      <td>0.752316</td>\n",
       "      <td>0.021332</td>\n",
       "      <td>0.670470</td>\n",
       "      <td>0.036789</td>\n",
       "      <td>0.818840</td>\n",
       "      <td>0.018487</td>\n",
       "      <td>0.568921</td>\n",
       "      <td>0.048125</td>\n",
       "      <td>0.845915</td>\n",
       "      <td>0.016228</td>\n",
       "    </tr>\n",
       "    <tr>\n",
       "      <th>18</th>\n",
       "      <td>GradientBoostingClassifier</td>\n",
       "      <td>BOW</td>\n",
       "      <td>0.731880</td>\n",
       "      <td>0.016806</td>\n",
       "      <td>0.656585</td>\n",
       "      <td>0.024741</td>\n",
       "      <td>0.763069</td>\n",
       "      <td>0.024227</td>\n",
       "      <td>0.576867</td>\n",
       "      <td>0.031795</td>\n",
       "      <td>0.808460</td>\n",
       "      <td>0.013218</td>\n",
       "    </tr>\n",
       "    <tr>\n",
       "      <th>19</th>\n",
       "      <td>GradientBoostingClassifier</td>\n",
       "      <td>TFIDF</td>\n",
       "      <td>0.729428</td>\n",
       "      <td>0.017235</td>\n",
       "      <td>0.656385</td>\n",
       "      <td>0.018897</td>\n",
       "      <td>0.756272</td>\n",
       "      <td>0.035367</td>\n",
       "      <td>0.580551</td>\n",
       "      <td>0.019802</td>\n",
       "      <td>0.807533</td>\n",
       "      <td>0.012346</td>\n",
       "    </tr>\n",
       "    <tr>\n",
       "      <th>15</th>\n",
       "      <td>KNeighborsClassifier</td>\n",
       "      <td>TFIDF</td>\n",
       "      <td>0.680654</td>\n",
       "      <td>0.025901</td>\n",
       "      <td>0.641885</td>\n",
       "      <td>0.035517</td>\n",
       "      <td>0.639873</td>\n",
       "      <td>0.027356</td>\n",
       "      <td>0.645440</td>\n",
       "      <td>0.053090</td>\n",
       "      <td>0.745440</td>\n",
       "      <td>0.029259</td>\n",
       "    </tr>\n",
       "    <tr>\n",
       "      <th>5</th>\n",
       "      <td>BernoulliNB</td>\n",
       "      <td>TFIDF</td>\n",
       "      <td>0.671662</td>\n",
       "      <td>0.018370</td>\n",
       "      <td>0.491692</td>\n",
       "      <td>0.025235</td>\n",
       "      <td>0.794426</td>\n",
       "      <td>0.061200</td>\n",
       "      <td>0.357003</td>\n",
       "      <td>0.022224</td>\n",
       "      <td>0.779715</td>\n",
       "      <td>0.020552</td>\n",
       "    </tr>\n",
       "    <tr>\n",
       "      <th>4</th>\n",
       "      <td>BernoulliNB</td>\n",
       "      <td>BOW</td>\n",
       "      <td>0.671662</td>\n",
       "      <td>0.018370</td>\n",
       "      <td>0.491692</td>\n",
       "      <td>0.025235</td>\n",
       "      <td>0.794426</td>\n",
       "      <td>0.061200</td>\n",
       "      <td>0.357003</td>\n",
       "      <td>0.022224</td>\n",
       "      <td>0.779715</td>\n",
       "      <td>0.020552</td>\n",
       "    </tr>\n",
       "    <tr>\n",
       "      <th>14</th>\n",
       "      <td>KNeighborsClassifier</td>\n",
       "      <td>BOW</td>\n",
       "      <td>0.661580</td>\n",
       "      <td>0.027729</td>\n",
       "      <td>0.483709</td>\n",
       "      <td>0.058760</td>\n",
       "      <td>0.749308</td>\n",
       "      <td>0.046675</td>\n",
       "      <td>0.359494</td>\n",
       "      <td>0.057914</td>\n",
       "      <td>0.717618</td>\n",
       "      <td>0.030492</td>\n",
       "    </tr>\n",
       "  </tbody>\n",
       "</table>\n",
       "</div>"
      ],
      "text/plain": [
       "                        modelo vetorizacao  acuracia media  acuracia desvio  \\\n",
       "3                 ComplementNB       TFIDF        0.739782         0.017287   \n",
       "20               MLPClassifier         BOW        0.769210         0.019269   \n",
       "21               MLPClassifier       TFIDF        0.770027         0.014884   \n",
       "7                MultinomialNB       TFIDF        0.755858         0.019390   \n",
       "9                    LinearSVC       TFIDF        0.755858         0.019390   \n",
       "11               SGDClassifier       TFIDF        0.762670         0.021367   \n",
       "6                MultinomialNB         BOW        0.738420         0.019497   \n",
       "2                 ComplementNB         BOW        0.734332         0.020832   \n",
       "0           LogisticRegression         BOW        0.766485         0.015702   \n",
       "13                         SVC       TFIDF        0.776839         0.015627   \n",
       "1           LogisticRegression       TFIDF        0.770027         0.014377   \n",
       "10               SGDClassifier         BOW        0.753406         0.014787   \n",
       "8                    LinearSVC         BOW        0.742234         0.015944   \n",
       "12                         SVC         BOW        0.759401         0.026531   \n",
       "16      RandomForestClassifier         BOW        0.758583         0.020866   \n",
       "17      RandomForestClassifier       TFIDF        0.752316         0.021332   \n",
       "18  GradientBoostingClassifier         BOW        0.731880         0.016806   \n",
       "19  GradientBoostingClassifier       TFIDF        0.729428         0.017235   \n",
       "15        KNeighborsClassifier       TFIDF        0.680654         0.025901   \n",
       "5                  BernoulliNB       TFIDF        0.671662         0.018370   \n",
       "4                  BernoulliNB         BOW        0.671662         0.018370   \n",
       "14        KNeighborsClassifier         BOW        0.661580         0.027729   \n",
       "\n",
       "    f1 media  f1 desvio  precisao media  precisao desvio  revocacao media  \\\n",
       "3   0.744887   0.015510        0.661143         0.018137         0.853681   \n",
       "20  0.738438   0.020382        0.746995         0.035461         0.732388   \n",
       "21  0.735190   0.015544        0.755860         0.032290         0.717694   \n",
       "7   0.732169   0.023061        0.715155         0.020845         0.750793   \n",
       "9   0.732169   0.023061        0.715155         0.020845         0.750793   \n",
       "11  0.730128   0.023030        0.739747         0.028229         0.721413   \n",
       "6   0.729930   0.018843        0.675654         0.021588         0.794254   \n",
       "2   0.729815   0.018807        0.667361         0.023620         0.805888   \n",
       "0   0.728089   0.018910        0.755859         0.022778         0.703019   \n",
       "13  0.723696   0.019668        0.806282         0.026118         0.657093   \n",
       "1   0.717767   0.016311        0.791320         0.024152         0.657096   \n",
       "10  0.714967   0.020154        0.736583         0.023319         0.696255   \n",
       "8   0.708173   0.016381        0.714711         0.026383         0.703004   \n",
       "12  0.703961   0.033726        0.778724         0.041740         0.643611   \n",
       "16  0.686311   0.027944        0.814007         0.035864         0.594003   \n",
       "17  0.670470   0.036789        0.818840         0.018487         0.568921   \n",
       "18  0.656585   0.024741        0.763069         0.024227         0.576867   \n",
       "19  0.656385   0.018897        0.756272         0.035367         0.580551   \n",
       "15  0.641885   0.035517        0.639873         0.027356         0.645440   \n",
       "5   0.491692   0.025235        0.794426         0.061200         0.357003   \n",
       "4   0.491692   0.025235        0.794426         0.061200         0.357003   \n",
       "14  0.483709   0.058760        0.749308         0.046675         0.359494   \n",
       "\n",
       "    revocacao desvio  auc media  auc desvio  \n",
       "3           0.025994   0.849126    0.016546  \n",
       "20          0.036609   0.848066    0.018408  \n",
       "21          0.032050   0.855410    0.014457  \n",
       "7           0.034825   0.849126    0.016546  \n",
       "9           0.034825   0.849126    0.016546  \n",
       "11          0.027826   0.843185    0.012149  \n",
       "6           0.024623   0.828275    0.019037  \n",
       "2           0.023679   0.828282    0.019037  \n",
       "0           0.027779   0.847032    0.014468  \n",
       "13          0.025291   0.865389    0.016405  \n",
       "1           0.017880   0.849702    0.017979  \n",
       "10          0.037885   0.823414    0.008124  \n",
       "8           0.027690   0.814190    0.013709  \n",
       "12          0.040594   0.838701    0.018583  \n",
       "16          0.031143   0.845353    0.018940  \n",
       "17          0.048125   0.845915    0.016228  \n",
       "18          0.031795   0.808460    0.013218  \n",
       "19          0.019802   0.807533    0.012346  \n",
       "15          0.053090   0.745440    0.029259  \n",
       "5           0.022224   0.779715    0.020552  \n",
       "4           0.022224   0.779715    0.020552  \n",
       "14          0.057914   0.717618    0.030492  "
      ]
     },
     "execution_count": 35,
     "metadata": {},
     "output_type": "execute_result"
    }
   ],
   "source": [
    "scores_df.sort_values(by='f1 media',ascending=False)"
   ]
  }
 ],
 "metadata": {
  "kernelspec": {
   "display_name": "Python 3 (ipykernel)",
   "language": "python",
   "name": "python3"
  },
  "language_info": {
   "codemirror_mode": {
    "name": "ipython",
    "version": 3
   },
   "file_extension": ".py",
   "mimetype": "text/x-python",
   "name": "python",
   "nbconvert_exporter": "python",
   "pygments_lexer": "ipython3",
   "version": "3.9.7"
  }
 },
 "nbformat": 4,
 "nbformat_minor": 5
}
