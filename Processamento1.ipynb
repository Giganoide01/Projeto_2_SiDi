{
 "cells": [
  {
   "cell_type": "code",
   "execution_count": 24,
   "id": "f7e9aa66",
   "metadata": {},
   "outputs": [],
   "source": [
    "import pandas as pd\n",
    "\n",
    "#features\n",
    "from sklearn.feature_extraction.text import TfidfVectorizer\n",
    "from sklearn.feature_extraction.text import CountVectorizer\n",
    "from sklearn.metrics.pairwise import linear_kernel\n",
    "from sklearn import metrics\n",
    "from sklearn.model_selection import train_test_split\n",
    "from sklearn.decomposition import PCA\n",
    "from sklearn.decomposition import TruncatedSVD\n",
    "\n",
    "#models\n",
    "from sklearn.linear_model import LogisticRegression\n",
    "from sklearn.linear_model import SGDClassifier\n",
    "from sklearn.naive_bayes import BernoulliNB\n",
    "from sklearn.naive_bayes import GaussianNB\n",
    "from sklearn.naive_bayes import MultinomialNB\n",
    "from sklearn.naive_bayes import ComplementNB\n",
    "from sklearn.ensemble  import RandomForestClassifier\n",
    "from sklearn.neural_network import MLPClassifier\n",
    "from sklearn.ensemble import GradientBoostingClassifier\n",
    "from sklearn.svm import SVC\n",
    "from sklearn.svm import LinearSVC\n",
    "from sklearn.neighbors import KNeighborsClassifier\n",
    "\n",
    "#CV\n",
    "from sklearn.model_selection import cross_validate\n"
   ]
  },
  {
   "cell_type": "code",
   "execution_count": 25,
   "id": "28e7bc5b",
   "metadata": {},
   "outputs": [
    {
     "name": "stderr",
     "output_type": "stream",
     "text": [
      "C:\\Users\\mcacs\\anaconda3\\envs\\sidi\\lib\\site-packages\\IPython\\core\\interactiveshell.py:3457: DtypeWarning: Columns (4,7) have mixed types.Specify dtype option on import or set low_memory=False.\n",
      "  exec(code_obj, self.user_global_ns, self.user_ns)\n"
     ]
    }
   ],
   "source": [
    "original_df = pd.read_csv(\"C:/Users/mcacs/Downloads/fakeWhatsApp.BR_2018.csv\")"
   ]
  },
  {
   "cell_type": "code",
   "execution_count": 26,
   "id": "21b30d4a",
   "metadata": {},
   "outputs": [
    {
     "data": {
      "text/plain": [
       "(20872, 19)"
      ]
     },
     "execution_count": 26,
     "metadata": {},
     "output_type": "execute_result"
    }
   ],
   "source": [
    "original_df = original_df[original_df['midia']==0]\n",
    "original_df = original_df[original_df['viral']==1]\n",
    "original_df.shape"
   ]
  },
  {
   "cell_type": "code",
   "execution_count": 27,
   "id": "a0622bb0",
   "metadata": {},
   "outputs": [
    {
     "data": {
      "text/html": [
       "<div>\n",
       "<style scoped>\n",
       "    .dataframe tbody tr th:only-of-type {\n",
       "        vertical-align: middle;\n",
       "    }\n",
       "\n",
       "    .dataframe tbody tr th {\n",
       "        vertical-align: top;\n",
       "    }\n",
       "\n",
       "    .dataframe thead th {\n",
       "        text-align: right;\n",
       "    }\n",
       "</style>\n",
       "<table border=\"1\" class=\"dataframe\">\n",
       "  <thead>\n",
       "    <tr style=\"text-align: right;\">\n",
       "      <th></th>\n",
       "      <th>id</th>\n",
       "      <th>date</th>\n",
       "      <th>hour</th>\n",
       "      <th>timestamp</th>\n",
       "      <th>ddi</th>\n",
       "      <th>country</th>\n",
       "      <th>country_iso3</th>\n",
       "      <th>ddd</th>\n",
       "      <th>state</th>\n",
       "      <th>group</th>\n",
       "      <th>midia</th>\n",
       "      <th>url</th>\n",
       "      <th>characters</th>\n",
       "      <th>words</th>\n",
       "      <th>types</th>\n",
       "      <th>viral</th>\n",
       "      <th>shares</th>\n",
       "      <th>text</th>\n",
       "      <th>misinformation</th>\n",
       "    </tr>\n",
       "  </thead>\n",
       "  <tbody>\n",
       "    <tr>\n",
       "      <th>1</th>\n",
       "      <td>3631133147603888180</td>\n",
       "      <td>01/08/18</td>\n",
       "      <td>13:24</td>\n",
       "      <td>2018-08-01 13:24:00</td>\n",
       "      <td>55</td>\n",
       "      <td>BRASIL</td>\n",
       "      <td>BRA</td>\n",
       "      <td>17</td>\n",
       "      <td>São Paulo</td>\n",
       "      <td>2018_1</td>\n",
       "      <td>0</td>\n",
       "      <td>0</td>\n",
       "      <td>58</td>\n",
       "      <td>9</td>\n",
       "      <td>9</td>\n",
       "      <td>1</td>\n",
       "      <td>2</td>\n",
       "      <td>O Bolsonaro tem que estar preparado pra respon...</td>\n",
       "      <td>-1</td>\n",
       "    </tr>\n",
       "    <tr>\n",
       "      <th>15</th>\n",
       "      <td>3631133147603888180</td>\n",
       "      <td>10/08/18</td>\n",
       "      <td>14:31</td>\n",
       "      <td>2018-08-10 14:31:00</td>\n",
       "      <td>55</td>\n",
       "      <td>BRASIL</td>\n",
       "      <td>BRA</td>\n",
       "      <td>17</td>\n",
       "      <td>São Paulo</td>\n",
       "      <td>2018_1</td>\n",
       "      <td>0</td>\n",
       "      <td>0</td>\n",
       "      <td>99</td>\n",
       "      <td>18</td>\n",
       "      <td>18</td>\n",
       "      <td>1</td>\n",
       "      <td>2</td>\n",
       "      <td>No dia 07 de Outubro, quando for votar, não es...</td>\n",
       "      <td>1</td>\n",
       "    </tr>\n",
       "    <tr>\n",
       "      <th>26</th>\n",
       "      <td>-4391661641377612003</td>\n",
       "      <td>11/08/18</td>\n",
       "      <td>19:28</td>\n",
       "      <td>2018-08-11 19:28:00</td>\n",
       "      <td>55</td>\n",
       "      <td>BRASIL</td>\n",
       "      <td>BRA</td>\n",
       "      <td>13</td>\n",
       "      <td>São Paulo</td>\n",
       "      <td>2018_1</td>\n",
       "      <td>0</td>\n",
       "      <td>0</td>\n",
       "      <td>114</td>\n",
       "      <td>17</td>\n",
       "      <td>17</td>\n",
       "      <td>1</td>\n",
       "      <td>6</td>\n",
       "      <td>Devido a aborrecimentos nas varias redes socia...</td>\n",
       "      <td>0</td>\n",
       "    </tr>\n",
       "    <tr>\n",
       "      <th>43</th>\n",
       "      <td>3631133147603888180</td>\n",
       "      <td>15/08/18</td>\n",
       "      <td>19:23</td>\n",
       "      <td>2018-08-15 19:23:00</td>\n",
       "      <td>55</td>\n",
       "      <td>BRASIL</td>\n",
       "      <td>BRA</td>\n",
       "      <td>17</td>\n",
       "      <td>São Paulo</td>\n",
       "      <td>2018_1</td>\n",
       "      <td>0</td>\n",
       "      <td>1</td>\n",
       "      <td>330</td>\n",
       "      <td>47</td>\n",
       "      <td>40</td>\n",
       "      <td>1</td>\n",
       "      <td>7</td>\n",
       "      <td>EU GOSTARIA DE PEDIR A TODOS DO GRUPOS ENTREM ...</td>\n",
       "      <td>0</td>\n",
       "    </tr>\n",
       "    <tr>\n",
       "      <th>103</th>\n",
       "      <td>-4391661641377612003</td>\n",
       "      <td>22/08/18</td>\n",
       "      <td>22:11</td>\n",
       "      <td>2018-08-22 22:11:00</td>\n",
       "      <td>55</td>\n",
       "      <td>BRASIL</td>\n",
       "      <td>BRA</td>\n",
       "      <td>13</td>\n",
       "      <td>São Paulo</td>\n",
       "      <td>2018_1</td>\n",
       "      <td>0</td>\n",
       "      <td>0</td>\n",
       "      <td>226</td>\n",
       "      <td>39</td>\n",
       "      <td>34</td>\n",
       "      <td>1</td>\n",
       "      <td>8</td>\n",
       "      <td>Como são as coisas.\\nChefe do jacaré aparece n...</td>\n",
       "      <td>1</td>\n",
       "    </tr>\n",
       "  </tbody>\n",
       "</table>\n",
       "</div>"
      ],
      "text/plain": [
       "                      id      date   hour            timestamp ddi country  \\\n",
       "1    3631133147603888180  01/08/18  13:24  2018-08-01 13:24:00  55  BRASIL   \n",
       "15   3631133147603888180  10/08/18  14:31  2018-08-10 14:31:00  55  BRASIL   \n",
       "26  -4391661641377612003  11/08/18  19:28  2018-08-11 19:28:00  55  BRASIL   \n",
       "43   3631133147603888180  15/08/18  19:23  2018-08-15 19:23:00  55  BRASIL   \n",
       "103 -4391661641377612003  22/08/18  22:11  2018-08-22 22:11:00  55  BRASIL   \n",
       "\n",
       "    country_iso3 ddd      state   group  midia  url  characters  words  types  \\\n",
       "1            BRA  17  São Paulo  2018_1      0    0          58      9      9   \n",
       "15           BRA  17  São Paulo  2018_1      0    0          99     18     18   \n",
       "26           BRA  13  São Paulo  2018_1      0    0         114     17     17   \n",
       "43           BRA  17  São Paulo  2018_1      0    1         330     47     40   \n",
       "103          BRA  13  São Paulo  2018_1      0    0         226     39     34   \n",
       "\n",
       "     viral  shares                                               text  \\\n",
       "1        1       2  O Bolsonaro tem que estar preparado pra respon...   \n",
       "15       1       2  No dia 07 de Outubro, quando for votar, não es...   \n",
       "26       1       6  Devido a aborrecimentos nas varias redes socia...   \n",
       "43       1       7  EU GOSTARIA DE PEDIR A TODOS DO GRUPOS ENTREM ...   \n",
       "103      1       8  Como são as coisas.\\nChefe do jacaré aparece n...   \n",
       "\n",
       "     misinformation  \n",
       "1                -1  \n",
       "15                1  \n",
       "26                0  \n",
       "43                0  \n",
       "103               1  "
      ]
     },
     "execution_count": 27,
     "metadata": {},
     "output_type": "execute_result"
    }
   ],
   "source": [
    "original_df.head()"
   ]
  },
  {
   "cell_type": "code",
   "execution_count": 28,
   "id": "706b7899",
   "metadata": {},
   "outputs": [
    {
     "data": {
      "text/plain": [
       "(5284, 19)"
      ]
     },
     "execution_count": 28,
     "metadata": {},
     "output_type": "execute_result"
    }
   ],
   "source": [
    "original_df = original_df.drop_duplicates(subset=['text'])\n",
    "original_df.shape"
   ]
  },
  {
   "cell_type": "code",
   "execution_count": null,
   "id": "fc3f4f4b",
   "metadata": {},
   "outputs": [],
   "source": []
  },
  {
   "cell_type": "code",
   "execution_count": 29,
   "id": "1d2a87ee",
   "metadata": {},
   "outputs": [
    {
     "data": {
      "text/html": [
       "<div>\n",
       "<style scoped>\n",
       "    .dataframe tbody tr th:only-of-type {\n",
       "        vertical-align: middle;\n",
       "    }\n",
       "\n",
       "    .dataframe tbody tr th {\n",
       "        vertical-align: top;\n",
       "    }\n",
       "\n",
       "    .dataframe thead th {\n",
       "        text-align: right;\n",
       "    }\n",
       "</style>\n",
       "<table border=\"1\" class=\"dataframe\">\n",
       "  <thead>\n",
       "    <tr style=\"text-align: right;\">\n",
       "      <th></th>\n",
       "      <th>text</th>\n",
       "      <th>misinformation</th>\n",
       "    </tr>\n",
       "  </thead>\n",
       "  <tbody>\n",
       "    <tr>\n",
       "      <th>1</th>\n",
       "      <td>O Bolsonaro tem que estar preparado pra respon...</td>\n",
       "      <td>-1</td>\n",
       "    </tr>\n",
       "    <tr>\n",
       "      <th>15</th>\n",
       "      <td>No dia 07 de Outubro, quando for votar, não es...</td>\n",
       "      <td>1</td>\n",
       "    </tr>\n",
       "    <tr>\n",
       "      <th>26</th>\n",
       "      <td>Devido a aborrecimentos nas varias redes socia...</td>\n",
       "      <td>0</td>\n",
       "    </tr>\n",
       "    <tr>\n",
       "      <th>43</th>\n",
       "      <td>EU GOSTARIA DE PEDIR A TODOS DO GRUPOS ENTREM ...</td>\n",
       "      <td>0</td>\n",
       "    </tr>\n",
       "    <tr>\n",
       "      <th>103</th>\n",
       "      <td>Como são as coisas.\\nChefe do jacaré aparece n...</td>\n",
       "      <td>1</td>\n",
       "    </tr>\n",
       "    <tr>\n",
       "      <th>...</th>\n",
       "      <td>...</td>\n",
       "      <td>...</td>\n",
       "    </tr>\n",
       "    <tr>\n",
       "      <th>280574</th>\n",
       "      <td>Amoedo - Itaú - Metacapitalistas (George Soros...</td>\n",
       "      <td>1</td>\n",
       "    </tr>\n",
       "    <tr>\n",
       "      <th>280875</th>\n",
       "      <td>*BEM GALERA... O VIDEO DA PSICOLOGIA REVERSA P...</td>\n",
       "      <td>0</td>\n",
       "    </tr>\n",
       "    <tr>\n",
       "      <th>280893</th>\n",
       "      <td>DIVULGUEM ESSE VIDEO PARA QUE TODOS SAIBAM QUE...</td>\n",
       "      <td>1</td>\n",
       "    </tr>\n",
       "    <tr>\n",
       "      <th>281281</th>\n",
       "      <td>https://www.oantagonista.com/brasil/exclusivo-...</td>\n",
       "      <td>0</td>\n",
       "    </tr>\n",
       "    <tr>\n",
       "      <th>281835</th>\n",
       "      <td>*#BOLSONARO2018* 🇧🇷\\n*1*- O foco é trocar info...</td>\n",
       "      <td>0</td>\n",
       "    </tr>\n",
       "  </tbody>\n",
       "</table>\n",
       "<p>5284 rows × 2 columns</p>\n",
       "</div>"
      ],
      "text/plain": [
       "                                                     text  misinformation\n",
       "1       O Bolsonaro tem que estar preparado pra respon...              -1\n",
       "15      No dia 07 de Outubro, quando for votar, não es...               1\n",
       "26      Devido a aborrecimentos nas varias redes socia...               0\n",
       "43      EU GOSTARIA DE PEDIR A TODOS DO GRUPOS ENTREM ...               0\n",
       "103     Como são as coisas.\\nChefe do jacaré aparece n...               1\n",
       "...                                                   ...             ...\n",
       "280574  Amoedo - Itaú - Metacapitalistas (George Soros...               1\n",
       "280875  *BEM GALERA... O VIDEO DA PSICOLOGIA REVERSA P...               0\n",
       "280893  DIVULGUEM ESSE VIDEO PARA QUE TODOS SAIBAM QUE...               1\n",
       "281281  https://www.oantagonista.com/brasil/exclusivo-...               0\n",
       "281835  *#BOLSONARO2018* 🇧🇷\\n*1*- O foco é trocar info...               0\n",
       "\n",
       "[5284 rows x 2 columns]"
      ]
     },
     "execution_count": 29,
     "metadata": {},
     "output_type": "execute_result"
    }
   ],
   "source": [
    "text_df = original_df[[\"text\",\"misinformation\"]]\n",
    "text_df"
   ]
  },
  {
   "cell_type": "code",
   "execution_count": 30,
   "id": "03744275",
   "metadata": {},
   "outputs": [
    {
     "data": {
      "text/plain": [
       "text              object\n",
       "misinformation     int64\n",
       "dtype: object"
      ]
     },
     "execution_count": 30,
     "metadata": {},
     "output_type": "execute_result"
    }
   ],
   "source": [
    "text_df.dtypes"
   ]
  },
  {
   "cell_type": "code",
   "execution_count": 31,
   "id": "dc38699c",
   "metadata": {},
   "outputs": [
    {
     "data": {
      "text/plain": [
       " 0    2547\n",
       " 1    2041\n",
       "-1     696\n",
       "Name: misinformation, dtype: int64"
      ]
     },
     "execution_count": 31,
     "metadata": {},
     "output_type": "execute_result"
    }
   ],
   "source": [
    "text_df[\"misinformation\"].value_counts()"
   ]
  },
  {
   "cell_type": "code",
   "execution_count": 32,
   "id": "bad9ceea",
   "metadata": {},
   "outputs": [],
   "source": [
    "text_df = text_df[text_df[\"misinformation\"]>-1]"
   ]
  },
  {
   "cell_type": "code",
   "execution_count": 43,
   "id": "14621611",
   "metadata": {},
   "outputs": [
    {
     "name": "stderr",
     "output_type": "stream",
     "text": [
      "C:\\Users\\mcacs\\AppData\\Local\\Temp/ipykernel_2320/1545947207.py:9: SettingWithCopyWarning: \n",
      "A value is trying to be set on a copy of a slice from a DataFrame.\n",
      "Try using .loc[row_indexer,col_indexer] = value instead\n",
      "\n",
      "See the caveats in the documentation: https://pandas.pydata.org/pandas-docs/stable/user_guide/indexing.html#returning-a-view-versus-a-copy\n",
      "  text_df['text'] = list_text\n"
     ]
    },
    {
     "data": {
      "text/html": [
       "<div>\n",
       "<style scoped>\n",
       "    .dataframe tbody tr th:only-of-type {\n",
       "        vertical-align: middle;\n",
       "    }\n",
       "\n",
       "    .dataframe tbody tr th {\n",
       "        vertical-align: top;\n",
       "    }\n",
       "\n",
       "    .dataframe thead th {\n",
       "        text-align: right;\n",
       "    }\n",
       "</style>\n",
       "<table border=\"1\" class=\"dataframe\">\n",
       "  <thead>\n",
       "    <tr style=\"text-align: right;\">\n",
       "      <th></th>\n",
       "      <th>misinformation</th>\n",
       "      <th>text</th>\n",
       "    </tr>\n",
       "  </thead>\n",
       "  <tbody>\n",
       "    <tr>\n",
       "      <th>15</th>\n",
       "      <td>1</td>\n",
       "      <td>No dia 07 de Outubro quando for votar não esqu...</td>\n",
       "    </tr>\n",
       "    <tr>\n",
       "      <th>26</th>\n",
       "      <td>0</td>\n",
       "      <td>Devido a aborrecimentos nas varias redes socia...</td>\n",
       "    </tr>\n",
       "    <tr>\n",
       "      <th>43</th>\n",
       "      <td>0</td>\n",
       "      <td>EU GOSTARIA DE PEDIR A TODOS DO GRUPOS ENTREM ...</td>\n",
       "    </tr>\n",
       "    <tr>\n",
       "      <th>103</th>\n",
       "      <td>1</td>\n",
       "      <td>Como são as coisas Chefe do jacaré aparece no ...</td>\n",
       "    </tr>\n",
       "    <tr>\n",
       "      <th>112</th>\n",
       "      <td>0</td>\n",
       "      <td>A ratoeira funcionou mais a ratazana aguentou ...</td>\n",
       "    </tr>\n",
       "    <tr>\n",
       "      <th>...</th>\n",
       "      <td>...</td>\n",
       "      <td>...</td>\n",
       "    </tr>\n",
       "    <tr>\n",
       "      <th>280574</th>\n",
       "      <td>1</td>\n",
       "      <td>Amoedo Itaú Metacapitalistas George Soros No g...</td>\n",
       "    </tr>\n",
       "    <tr>\n",
       "      <th>280875</th>\n",
       "      <td>0</td>\n",
       "      <td>BEM GALERA O VIDEO DA PSICOLOGIA REVERSA PARA ...</td>\n",
       "    </tr>\n",
       "    <tr>\n",
       "      <th>280893</th>\n",
       "      <td>1</td>\n",
       "      <td>DIVULGUEM ESSE VIDEO PARA QUE TODOS SAIBAM QUE...</td>\n",
       "    </tr>\n",
       "    <tr>\n",
       "      <th>281281</th>\n",
       "      <td>0</td>\n",
       "      <td>https www oantagonista com brasil exclusivo bo...</td>\n",
       "    </tr>\n",
       "    <tr>\n",
       "      <th>281835</th>\n",
       "      <td>0</td>\n",
       "      <td>BOLSONARO2018 🇧🇷 1 O foco é trocar informações...</td>\n",
       "    </tr>\n",
       "  </tbody>\n",
       "</table>\n",
       "<p>4588 rows × 2 columns</p>\n",
       "</div>"
      ],
      "text/plain": [
       "        misinformation                                               text\n",
       "15                   1  No dia 07 de Outubro quando for votar não esqu...\n",
       "26                   0  Devido a aborrecimentos nas varias redes socia...\n",
       "43                   0  EU GOSTARIA DE PEDIR A TODOS DO GRUPOS ENTREM ...\n",
       "103                  1  Como são as coisas Chefe do jacaré aparece no ...\n",
       "112                  0  A ratoeira funcionou mais a ratazana aguentou ...\n",
       "...                ...                                                ...\n",
       "280574               1  Amoedo Itaú Metacapitalistas George Soros No g...\n",
       "280875               0  BEM GALERA O VIDEO DA PSICOLOGIA REVERSA PARA ...\n",
       "280893               1  DIVULGUEM ESSE VIDEO PARA QUE TODOS SAIBAM QUE...\n",
       "281281               0  https www oantagonista com brasil exclusivo bo...\n",
       "281835               0  BOLSONARO2018 🇧🇷 1 O foco é trocar informações...\n",
       "\n",
       "[4588 rows x 2 columns]"
      ]
     },
     "execution_count": 43,
     "metadata": {},
     "output_type": "execute_result"
    }
   ],
   "source": [
    "from string import punctuation\n",
    "def cleanString(strval):\n",
    "    return \"\".join(\" \" if i in punctuation else i for i in strval.strip(punctuation))\n",
    "list_text = list(text_df['text'])\n",
    "for (index, text) in enumerate(list_text):\n",
    "    text = \" \".join(cleanString(i) for i in text.split())\n",
    "    list_text[index] = text\n",
    "text_df.drop('text', axis=1, inplace=True)\n",
    "text_df['text'] = list_text\n",
    "text_df"
   ]
  },
  {
   "cell_type": "code",
   "execution_count": 48,
   "id": "63ec9a9c",
   "metadata": {},
   "outputs": [],
   "source": [
    "text_df.to_csv('C:/Users/mcacs/Downloads/sempontuacao.csv')"
   ]
  },
  {
   "cell_type": "code",
   "execution_count": null,
   "id": "9ec4e995",
   "metadata": {},
   "outputs": [],
   "source": [
    "X_train, X_test, y_train, y_test = train_test_split(text_df['text'], text_df['misinformation'], test_size=0.2, \n",
    "                                                                    stratify = text_df['misinformation'], random_state=42)\n",
    "y_train.shape"
   ]
  },
  {
   "cell_type": "markdown",
   "id": "23b40ec4",
   "metadata": {},
   "source": [
    "## Vetorização:"
   ]
  },
  {
   "cell_type": "code",
   "execution_count": null,
   "id": "4b8436a7",
   "metadata": {},
   "outputs": [],
   "source": []
  }
 ],
 "metadata": {
  "kernelspec": {
   "display_name": "Python 3 (ipykernel)",
   "language": "python",
   "name": "python3"
  },
  "language_info": {
   "codemirror_mode": {
    "name": "ipython",
    "version": 3
   },
   "file_extension": ".py",
   "mimetype": "text/x-python",
   "name": "python",
   "nbconvert_exporter": "python",
   "pygments_lexer": "ipython3",
   "version": "3.8.12"
  }
 },
 "nbformat": 4,
 "nbformat_minor": 5
}
