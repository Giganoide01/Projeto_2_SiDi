{
 "cells": [
  {
   "cell_type": "markdown",
   "id": "28389799-9489-46c1-9cfa-e0614a686313",
   "metadata": {},
   "source": [
    "# Import das Bibliotecas"
   ]
  },
  {
   "cell_type": "code",
   "execution_count": 1,
   "id": "04c23b29-c736-48ea-b8b9-6aa857c0d5da",
   "metadata": {},
   "outputs": [],
   "source": [
    "import pandas as pd\n",
    "import numpy as np\n",
    "\n",
    "#utils\n",
    "import emoji, re, string, time, os\n",
    "\n",
    "#nlp\n",
    "import nltk\n",
    "#nltk.download('stopwords')\n",
    "from nltk.corpus import stopwords"
   ]
  },
  {
   "cell_type": "markdown",
   "id": "eb575fda-5383-4c67-9d88-4766deb91744",
   "metadata": {},
   "source": [
    "# Carregamento do dataset"
   ]
  },
  {
   "cell_type": "code",
   "execution_count": 2,
   "id": "55824265-1aee-4ffc-a27e-89b18b9d97bc",
   "metadata": {},
   "outputs": [
    {
     "name": "stderr",
     "output_type": "stream",
     "text": [
      "C:\\Users\\lmb3\\anaconda3\\envs\\pycaret\\lib\\site-packages\\IPython\\core\\interactiveshell.py:3444: DtypeWarning: Columns (4,7) have mixed types.Specify dtype option on import or set low_memory=False.\n",
      "  exec(code_obj, self.user_global_ns, self.user_ns)\n"
     ]
    }
   ],
   "source": [
    "original_df = pd.read_csv(\"C:/Users/lmb3/source/repos/FakeWhatsApp.Br-master/data/2018/fakeWhatsApp.BR_2018.csv\")"
   ]
  },
  {
   "cell_type": "code",
   "execution_count": 3,
   "id": "46e36218-ef1d-40e6-876f-adbe0a3ba155",
   "metadata": {},
   "outputs": [
    {
     "data": {
      "text/plain": [
       "(20872, 19)"
      ]
     },
     "execution_count": 3,
     "metadata": {},
     "output_type": "execute_result"
    }
   ],
   "source": [
    "original_df = original_df[original_df['midia']==0]\n",
    "original_df = original_df[original_df['viral']==1]\n",
    "original_df.shape"
   ]
  },
  {
   "cell_type": "code",
   "execution_count": 4,
   "id": "3c383695-152f-4955-97f3-7c6679436914",
   "metadata": {},
   "outputs": [
    {
     "data": {
      "text/plain": [
       "(5284, 19)"
      ]
     },
     "execution_count": 4,
     "metadata": {},
     "output_type": "execute_result"
    }
   ],
   "source": [
    "original_df = original_df.drop_duplicates(subset=['text'])\n",
    "original_df.shape"
   ]
  },
  {
   "cell_type": "code",
   "execution_count": 5,
   "id": "e9aa3436-a598-451a-b3ae-b5d28d34cf62",
   "metadata": {},
   "outputs": [],
   "source": [
    "text_df = original_df[[\"text\",\"misinformation\"]]"
   ]
  },
  {
   "cell_type": "code",
   "execution_count": 6,
   "id": "52137371-40ab-4bcb-84cd-898d4344ad21",
   "metadata": {},
   "outputs": [
    {
     "data": {
      "text/plain": [
       " 0    2547\n",
       " 1    2041\n",
       "-1     696\n",
       "Name: misinformation, dtype: int64"
      ]
     },
     "execution_count": 6,
     "metadata": {},
     "output_type": "execute_result"
    }
   ],
   "source": [
    "text_df[\"misinformation\"].value_counts()"
   ]
  },
  {
   "cell_type": "code",
   "execution_count": 7,
   "id": "8e810b8d-ef8f-40f7-98d4-7e6d0d91a75a",
   "metadata": {},
   "outputs": [
    {
     "data": {
      "text/html": [
       "<div>\n",
       "<style scoped>\n",
       "    .dataframe tbody tr th:only-of-type {\n",
       "        vertical-align: middle;\n",
       "    }\n",
       "\n",
       "    .dataframe tbody tr th {\n",
       "        vertical-align: top;\n",
       "    }\n",
       "\n",
       "    .dataframe thead th {\n",
       "        text-align: right;\n",
       "    }\n",
       "</style>\n",
       "<table border=\"1\" class=\"dataframe\">\n",
       "  <thead>\n",
       "    <tr style=\"text-align: right;\">\n",
       "      <th></th>\n",
       "      <th>text</th>\n",
       "      <th>misinformation</th>\n",
       "    </tr>\n",
       "  </thead>\n",
       "  <tbody>\n",
       "    <tr>\n",
       "      <th>0</th>\n",
       "      <td>No dia 07 de Outubro, quando for votar, não es...</td>\n",
       "      <td>1</td>\n",
       "    </tr>\n",
       "    <tr>\n",
       "      <th>1</th>\n",
       "      <td>Devido a aborrecimentos nas varias redes socia...</td>\n",
       "      <td>0</td>\n",
       "    </tr>\n",
       "    <tr>\n",
       "      <th>2</th>\n",
       "      <td>EU GOSTARIA DE PEDIR A TODOS DO GRUPOS ENTREM ...</td>\n",
       "      <td>0</td>\n",
       "    </tr>\n",
       "    <tr>\n",
       "      <th>3</th>\n",
       "      <td>Como são as coisas.\\nChefe do jacaré aparece n...</td>\n",
       "      <td>1</td>\n",
       "    </tr>\n",
       "    <tr>\n",
       "      <th>4</th>\n",
       "      <td>A ratoeira funcionou mais a ratazana aguentou ...</td>\n",
       "      <td>0</td>\n",
       "    </tr>\n",
       "    <tr>\n",
       "      <th>...</th>\n",
       "      <td>...</td>\n",
       "      <td>...</td>\n",
       "    </tr>\n",
       "    <tr>\n",
       "      <th>4583</th>\n",
       "      <td>Amoedo - Itaú - Metacapitalistas (George Soros...</td>\n",
       "      <td>1</td>\n",
       "    </tr>\n",
       "    <tr>\n",
       "      <th>4584</th>\n",
       "      <td>*BEM GALERA... O VIDEO DA PSICOLOGIA REVERSA P...</td>\n",
       "      <td>0</td>\n",
       "    </tr>\n",
       "    <tr>\n",
       "      <th>4585</th>\n",
       "      <td>DIVULGUEM ESSE VIDEO PARA QUE TODOS SAIBAM QUE...</td>\n",
       "      <td>1</td>\n",
       "    </tr>\n",
       "    <tr>\n",
       "      <th>4586</th>\n",
       "      <td>https://www.oantagonista.com/brasil/exclusivo-...</td>\n",
       "      <td>0</td>\n",
       "    </tr>\n",
       "    <tr>\n",
       "      <th>4587</th>\n",
       "      <td>*#BOLSONARO2018* 🇧🇷\\n*1*- O foco é trocar info...</td>\n",
       "      <td>0</td>\n",
       "    </tr>\n",
       "  </tbody>\n",
       "</table>\n",
       "<p>4588 rows × 2 columns</p>\n",
       "</div>"
      ],
      "text/plain": [
       "                                                   text  misinformation\n",
       "0     No dia 07 de Outubro, quando for votar, não es...               1\n",
       "1     Devido a aborrecimentos nas varias redes socia...               0\n",
       "2     EU GOSTARIA DE PEDIR A TODOS DO GRUPOS ENTREM ...               0\n",
       "3     Como são as coisas.\\nChefe do jacaré aparece n...               1\n",
       "4     A ratoeira funcionou mais a ratazana aguentou ...               0\n",
       "...                                                 ...             ...\n",
       "4583  Amoedo - Itaú - Metacapitalistas (George Soros...               1\n",
       "4584  *BEM GALERA... O VIDEO DA PSICOLOGIA REVERSA P...               0\n",
       "4585  DIVULGUEM ESSE VIDEO PARA QUE TODOS SAIBAM QUE...               1\n",
       "4586  https://www.oantagonista.com/brasil/exclusivo-...               0\n",
       "4587  *#BOLSONARO2018* 🇧🇷\\n*1*- O foco é trocar info...               0\n",
       "\n",
       "[4588 rows x 2 columns]"
      ]
     },
     "execution_count": 7,
     "metadata": {},
     "output_type": "execute_result"
    }
   ],
   "source": [
    "text_df = text_df[text_df[\"misinformation\"]>-1]\n",
    "text_df.reset_index(inplace=True)\n",
    "text_df = text_df.drop('index',axis=1)\n",
    "text_df"
   ]
  },
  {
   "cell_type": "code",
   "execution_count": 8,
   "id": "c3e8ec42-3878-45bc-8b46-007c10642781",
   "metadata": {},
   "outputs": [],
   "source": [
    "text_df.to_csv('data/original_dataset.csv')"
   ]
  },
  {
   "cell_type": "markdown",
   "id": "94026e60-e90e-4fda-955e-9ab4715574cf",
   "metadata": {
    "tags": []
   },
   "source": [
    "# Nesta sequencia serão preparados diferentes tipos de pré-processamento"
   ]
  },
  {
   "cell_type": "markdown",
   "id": "27f4baac-5a91-4216-9bba-0381caf291cc",
   "metadata": {},
   "source": [
    "**Do que foi feito pelo autor, sera aplicado o filtro para extrair o dominio da url dos links e reduzir todas as risadas com 'k' para 'kkkk'. Alem disso, todas as letras serao tratadas como minusculas**"
   ]
  },
  {
   "cell_type": "markdown",
   "id": "95f77361-2111-4060-9f73-339d813ad98a",
   "metadata": {},
   "source": [
    "## Funções\n",
    "\n",
    "**Aqui serão inicializadas as funções que serão usadas em cada pré processamento**"
   ]
  },
  {
   "cell_type": "code",
   "execution_count": 9,
   "id": "32f96712-b2e8-474b-9489-43aa345462e4",
   "metadata": {},
   "outputs": [],
   "source": [
    "def domainUrl(text):\n",
    "    '''\n",
    "    ORIGINAL DO ARTIGO DE Cabral et al. 2021\n",
    "    Substitutes an URL in a text for the domain of this URL\n",
    "    Input: an string\n",
    "    Output: the string with the modified URL\n",
    "    '''    \n",
    "    if 'http' in text:\n",
    "        re_url = '[^\\s]*https*://[^\\s]*'\n",
    "        matches = re.findall(re_url, text, flags=re.IGNORECASE)\n",
    "        for m in matches:\n",
    "            domain = m.split('//')\n",
    "            domain = domain[1].split('/')[0]\n",
    "            text = re.sub(re_url, domain, text, 1)\n",
    "        return text\n",
    "    else:\n",
    "        return text\n",
    "\n",
    "def processLoL(text):\n",
    "    '''\n",
    "    ORIGINAL DO AUTOR DE Cabral et al. 2021\n",
    "    substitutes any laughthing with k for kkkk\n",
    "    Input: an string\n",
    "    Output: the string with the modified laghter\n",
    "    '''\n",
    "    re_kkk = 'kkk*'\n",
    "    t = re.sub(re_kkk, \"kkkk\", text, flags=re.IGNORECASE)\n",
    "    return t\n",
    "\n",
    "def KeepEmojisPunctuation(text):\n",
    "    '''\n",
    "    ADAPTADO DO AUTOR DE Cabral et al. 2021\n",
    "    Put spaces between emojis and punctuation.\n",
    "    '''\n",
    "    \n",
    "    emojis_list = list(emoji.UNICODE_EMOJI['pt'].keys()) + ['🛇'] + ['☆']\n",
    "    punct = list(string.punctuation) + ['\\n']\n",
    "    \n",
    "    #get all unique chars\n",
    "    chars = set(text)\n",
    "    #for each unique char in text, do:\n",
    "    for c in chars:\n",
    "            \n",
    "        if c in punct: \n",
    "            text = text.replace(c, ' ' + c + ' ')    \n",
    "        \n",
    "        if c in emojis_list:\n",
    "            text = text.replace(c, ' ' + c + ' ') \n",
    "            \n",
    "    text = re.sub(' +', ' ', text)\n",
    "    return text\n",
    "    \n",
    "def RemovePunctuation_KeepEmojis(text):\n",
    "    '''\n",
    "    ADAPTADO DO AUTOR DE Cabral et al. 2021\n",
    "    Put spaces between emojis. Removes punctuation.\n",
    "    '''\n",
    "    \n",
    "    emojis_list = list(emoji.UNICODE_EMOJI['pt'].keys()) + ['🛇'] + ['☆']\n",
    "    punct = list(string.punctuation) + ['\\n']\n",
    "    \n",
    "    #get all unique chars\n",
    "    chars = set(text)\n",
    "    #for each unique char in text, do:\n",
    "    for c in chars:\n",
    "        if c in punct: \n",
    "            text = text.replace(c, ' ') #Changes ponctuation for space\n",
    "        \n",
    "        if c in emojis_list:\n",
    "            text = text.replace(c, ' ' + c + ' ') # puts emoji between spaces                 \n",
    "            \n",
    "    text = re.sub(' +', ' ', text)\n",
    "    return text\n",
    "\n",
    "def RemoveEmojis_KeepPunctuation(text):\n",
    "    '''\n",
    "    ADAPTADO DO AUTOR DE Cabral et al. 2021\n",
    "    Put spaces between punctuation. Removes emojis.\n",
    "    '''\n",
    "    \n",
    "    emojis_list = list(emoji.UNICODE_EMOJI['pt'].keys()) + ['🛇'] + ['☆']\n",
    "    punct = list(string.punctuation) + ['\\n']\n",
    "    \n",
    "    #get all unique chars\n",
    "    chars = set(text)\n",
    "    #for each unique char in text, do:\n",
    "    for c in chars:\n",
    "        if c in punct: \n",
    "            text = text.replace(c, ' ' + c + ' ')  # puts ponctuation between spaces   \n",
    "        \n",
    "        if c in emojis_list:\n",
    "            text = text.replace(c, ' ') #Changes emoji for space\n",
    "            \n",
    "    text = re.sub(' +', ' ', text)\n",
    "    return text\n",
    "\n",
    "def RemovePunctuationEmojis(text):\n",
    "    '''\n",
    "    Put spaces between emojis. Removes punctuation.\n",
    "    Removes emojis and punctuation.\n",
    "    '''\n",
    "    \n",
    "    emojis_list = list(emoji.UNICODE_EMOJI['pt'].keys()) + ['🛇'] + ['☆']\n",
    "    punct = list(string.punctuation) + ['\\n']\n",
    "    \n",
    "    #get all unique chars\n",
    "    chars = set(text)\n",
    "    #for each unique char in text, do:\n",
    "    for c in chars:\n",
    "        if c in punct: \n",
    "            text = text.replace(c, ' ') #Changes punctuation for space\n",
    "            \n",
    "        if c in emojis_list:\n",
    "            text = text.replace(c, ' ') #Changes emoji for space\n",
    "            \n",
    "    text = re.sub(' +', ' ', text)\n",
    "    return text\n",
    "\n",
    "\n",
    "\n",
    "\n",
    "#List of stopwords in portuguese form NLTK\n",
    "stop_words = list(stopwords.words('portuguese'))\n",
    "#New list of words added by Cabral et al. 2021\n",
    "new_stopwords = ['aí','pra','vão','vou','onde','lá','aqui',\n",
    "                 'tá','pode','pois','so','deu','agora','todo',\n",
    "                 'nao','ja','vc', 'bom', 'ai','ta', 'voce', 'alguem', 'ne', 'pq',\n",
    "                 'cara','to','mim','la','vcs','tbm', 'tudo']\n",
    "#Uniting the lists\n",
    "stop_words = stop_words + new_stopwords\n",
    "#Transforming the list in a srting with words separated by whitespaces\n",
    "final_stop_words = []\n",
    "for sw in stop_words:\n",
    "    sw = ' '+ sw + ' '\n",
    "    final_stop_words.append(sw)\n",
    "    \n",
    "def removeStopwords(text):\n",
    "    '''\n",
    "    ORIGINAL DO ARTIGO DE Cabral et al. 2021\n",
    "    Substitutes an stopword with a whitespace\n",
    "    Input: an string\n",
    "    Output: the string without stopwords\n",
    "    '''  \n",
    "    for sw in final_stop_words:\n",
    "        text = text.replace(sw,' ')\n",
    "    text = re.sub(' +',' ',text)\n",
    "    return text\n",
    "\n",
    "\n",
    "\n",
    "def preprocess1(text):\n",
    "    '''\n",
    "    Main function for pre-processing 1\n",
    "    '''\n",
    "    text = text.lower().strip()\n",
    "    text = domainUrl(text)\n",
    "    text = processLoL(text)\n",
    "    text = KeepEmojisPunctuation(text)\n",
    "\n",
    "    return text\n",
    "\n",
    "def preprocess2(text):\n",
    "    '''\n",
    "    Main function for pre-processing 2\n",
    "    '''\n",
    "    text = text.lower().strip()\n",
    "    text = domainUrl(text)\n",
    "    text = processLoL(text)\n",
    "    text = KeepEmojisPunctuation(text)\n",
    "    text = removeStopwords(text)\n",
    "\n",
    "    return text\n",
    "\n",
    "def preprocess3(text):\n",
    "    '''\n",
    "    Main function for pre-processing 3\n",
    "    '''\n",
    "    text = text.lower().strip()\n",
    "    text = domainUrl(text)\n",
    "    text = processLoL(text)\n",
    "    text = RemovePunctuation_KeepEmojis(text)\n",
    "    text = removeStopwords(text)\n",
    "\n",
    "    return text\n",
    "\n",
    "def preprocess4(text):\n",
    "    '''\n",
    "    Main function for pre-processing 4\n",
    "    '''\n",
    "    text = text.lower().strip()\n",
    "    text = domainUrl(text)\n",
    "    text = processLoL(text)\n",
    "    text = RemoveEmojis_KeepPunctuation(text)\n",
    "    text = removeStopwords(text)\n",
    "\n",
    "    return text\n",
    "\n",
    "def preprocess5(text):\n",
    "    '''\n",
    "    Main function for pre-processing 5\n",
    "    '''\n",
    "    text = text.lower().strip()\n",
    "    text = domainUrl(text)\n",
    "    text = processLoL(text)\n",
    "    text = RemovePunctuationEmojis(text)\n",
    "\n",
    "    return text\n",
    "\n",
    "def preprocess6(text):\n",
    "    '''\n",
    "    Main function for pre-processing 6\n",
    "    '''\n",
    "    text = text.lower().strip()\n",
    "    text = domainUrl(text)\n",
    "    text = processLoL(text)\n",
    "    text = RemovePunctuationEmojis(text)\n",
    "    text = removeStopwords(text)\n",
    "\n",
    "    return text"
   ]
  },
  {
   "cell_type": "markdown",
   "id": "a7140de2-bb3a-4ebd-a48c-c335d60d0c97",
   "metadata": {
    "tags": []
   },
   "source": [
    "# Pre-Procesamento 1: Mantidos stopwords, pontuações e emojis"
   ]
  },
  {
   "cell_type": "code",
   "execution_count": 10,
   "id": "7d0e349f-f426-480a-b357-9f58b8c3862d",
   "metadata": {},
   "outputs": [],
   "source": [
    "text_df['pre_processed_text'] = [preprocess1(t) for t in text_df['text']]"
   ]
  },
  {
   "cell_type": "code",
   "execution_count": 11,
   "id": "29599dca-b527-4ea0-94c3-466fa1346152",
   "metadata": {},
   "outputs": [
    {
     "data": {
      "text/plain": [
       "0       no dia 07 de outubro , quando for votar , não ...\n",
       "1       devido a aborrecimentos nas varias redes socia...\n",
       "2       eu gostaria de pedir a todos do grupos entrem ...\n",
       "3       como são as coisas . \\n chefe do jacaré aparec...\n",
       "4       a ratoeira funcionou mais a ratazana aguentou ...\n",
       "                              ...                        \n",
       "4583    amoedo - itaú - metacapitalistas ( george soro...\n",
       "4584     * bem galera . . . o video da psicologia reve...\n",
       "4585    divulguem esse video para que todos saibam que...\n",
       "4586    www . oantagonista . com * exclusivo : bolsona...\n",
       "4587     * # bolsonaro2018 * 🇧🇷 \\n * 1 * - o foco é tr...\n",
       "Name: pre_processed_text, Length: 4588, dtype: object"
      ]
     },
     "execution_count": 11,
     "metadata": {},
     "output_type": "execute_result"
    }
   ],
   "source": [
    "text_df['pre_processed_text']"
   ]
  },
  {
   "cell_type": "code",
   "execution_count": 12,
   "id": "c1e30a6a-5e5b-4afc-a850-42a4d598af8c",
   "metadata": {},
   "outputs": [],
   "source": [
    "text_df.to_csv('data_processed/stopwordPunctEmojiKeep_dataset.csv')"
   ]
  },
  {
   "cell_type": "markdown",
   "id": "afb80f09-55a7-4805-b464-0269472786e2",
   "metadata": {
    "tags": []
   },
   "source": [
    "# Pre-Processamento 2: Remoção de stopwords, são mantidas pontuações e emojis"
   ]
  },
  {
   "cell_type": "code",
   "execution_count": 13,
   "id": "2293dfac-b85f-446e-9488-7ce0fb1aa78e",
   "metadata": {},
   "outputs": [],
   "source": [
    "text_df['pre_processed_text'] = [preprocess2(t) for t in text_df['text']]"
   ]
  },
  {
   "cell_type": "code",
   "execution_count": 14,
   "id": "e54843b6-a273-4b26-9a85-ec8e08997652",
   "metadata": {},
   "outputs": [
    {
     "data": {
      "text/plain": [
       "0       no dia 07 outubro , votar , esqueça esquerdopa...\n",
       "1       devido aborrecimentos varias redes sociais pos...\n",
       "2       eu gostaria pedir todos grupos entrem neste li...\n",
       "3       como coisas . \\n chefe jacaré aparece video ba...\n",
       "4       a ratoeira funcionou ratazana aguentou dor cal...\n",
       "                              ...                        \n",
       "4583    amoedo - itaú - metacapitalistas ( george soro...\n",
       "4584     * bem galera . . . video psicologia reversa a...\n",
       "4585    divulguem video todos saibam bolsonaro . . . 😑...\n",
       "4586    www . oantagonista . * exclusivo : bolsonaro f...\n",
       "4587     * # bolsonaro2018 * 🇧🇷 \\n * 1 * - foco trocar...\n",
       "Name: pre_processed_text, Length: 4588, dtype: object"
      ]
     },
     "execution_count": 14,
     "metadata": {},
     "output_type": "execute_result"
    }
   ],
   "source": [
    "text_df['pre_processed_text']"
   ]
  },
  {
   "cell_type": "code",
   "execution_count": 15,
   "id": "a5524048-2799-49ed-92a6-bfd03a141412",
   "metadata": {},
   "outputs": [],
   "source": [
    "text_df.to_csv('data_processed/stopwordRemoval_punctEmojiKeep_dataset.csv')"
   ]
  },
  {
   "cell_type": "markdown",
   "id": "1e8736e4-e019-4f8c-9171-09d0f6676bb3",
   "metadata": {
    "tags": []
   },
   "source": [
    "# Pre-Processamento 3: Remoção de stopwords e de pontuação, emojis mantidos"
   ]
  },
  {
   "cell_type": "code",
   "execution_count": 16,
   "id": "6ccb8e3a-b07c-4b4b-9773-b86521c77568",
   "metadata": {},
   "outputs": [],
   "source": [
    "text_df['pre_processed_text'] = [preprocess3(t) for t in text_df['text']]"
   ]
  },
  {
   "cell_type": "code",
   "execution_count": 17,
   "id": "a75876f1-53a2-451c-b888-62d752191ac0",
   "metadata": {},
   "outputs": [
    {
     "data": {
      "text/plain": [
       "0       no dia 07 outubro votar esqueça esquerdopatas ...\n",
       "1       devido aborrecimentos varias redes sociais pos...\n",
       "2       eu gostaria pedir todos grupos entrem neste li...\n",
       "3       como coisas chefe jacaré aparece video baleado...\n",
       "4       a ratoeira funcionou ratazana aguentou dor cal...\n",
       "                              ...                        \n",
       "4583    amoedo itaú metacapitalistas george soros gove...\n",
       "4584     bem galera video psicologia reversa ajudar pr...\n",
       "4585    divulguem video todos saibam bolsonaro 😑 🇧🇷 👇 ...\n",
       "4586    www oantagonista exclusivo bolsonaro faz nova ...\n",
       "4587     bolsonaro2018 🇧🇷 1 foco trocar informações po...\n",
       "Name: pre_processed_text, Length: 4588, dtype: object"
      ]
     },
     "execution_count": 17,
     "metadata": {},
     "output_type": "execute_result"
    }
   ],
   "source": [
    "text_df['pre_processed_text']"
   ]
  },
  {
   "cell_type": "code",
   "execution_count": 18,
   "id": "17d13b49-de2a-4f93-b294-9a48ec66634b",
   "metadata": {},
   "outputs": [],
   "source": [
    "text_df.to_csv('data_processed/punctStopwordRemoval_emojiKeep_dataset.csv')"
   ]
  },
  {
   "cell_type": "markdown",
   "id": "0d205c53-dd72-48a1-9855-b7966cf4238e",
   "metadata": {
    "tags": []
   },
   "source": [
    "# Pre-Processamento 4: Remoção de stopwords e de emojis, pontuação mantida"
   ]
  },
  {
   "cell_type": "code",
   "execution_count": 19,
   "id": "0bb74620-ba58-4ae8-81fb-ee3f64cc94e0",
   "metadata": {},
   "outputs": [],
   "source": [
    "text_df['pre_processed_text'] = [preprocess4(t) for t in text_df['text']]"
   ]
  },
  {
   "cell_type": "code",
   "execution_count": 20,
   "id": "8ac2b8e8-7725-4828-902f-d6badcbc8a82",
   "metadata": {},
   "outputs": [
    {
     "data": {
      "text/plain": [
       "0       no dia 07 outubro , votar , esqueça esquerdopa...\n",
       "1       devido aborrecimentos varias redes sociais pos...\n",
       "2       eu gostaria pedir todos grupos entrem neste li...\n",
       "3       como coisas . \\n chefe jacaré aparece video ba...\n",
       "4       a ratoeira funcionou ratazana aguentou dor cal...\n",
       "                              ...                        \n",
       "4583    amoedo - itaú - metacapitalistas ( george soro...\n",
       "4584     * bem galera . . . video psicologia reversa a...\n",
       "4585    divulguem video todos saibam bolsonaro . . . 🇧...\n",
       "4586    www . oantagonista . * exclusivo : bolsonaro f...\n",
       "4587     * # bolsonaro2018 * 🇧🇷 \\n * 1 * - foco trocar...\n",
       "Name: pre_processed_text, Length: 4588, dtype: object"
      ]
     },
     "execution_count": 20,
     "metadata": {},
     "output_type": "execute_result"
    }
   ],
   "source": [
    "text_df['pre_processed_text']"
   ]
  },
  {
   "cell_type": "code",
   "execution_count": 21,
   "id": "000759c7-76c6-4800-9a34-2ebc6079686b",
   "metadata": {},
   "outputs": [],
   "source": [
    "text_df.to_csv('data_processed/stopwordEmojiRemoval_punctKeep_dataset.csv')"
   ]
  },
  {
   "cell_type": "markdown",
   "id": "a4919ba4-9db2-4303-a68a-2c780498a1a5",
   "metadata": {
    "tags": []
   },
   "source": [
    "# Pre-Processamento 5: Remoção de emojis e pontuações, stopwords mantidas "
   ]
  },
  {
   "cell_type": "code",
   "execution_count": 22,
   "id": "702fbd3f-f39c-463b-a70b-df9e4379fd58",
   "metadata": {},
   "outputs": [],
   "source": [
    "text_df['pre_processed_text'] = [preprocess5(t) for t in text_df['text']]"
   ]
  },
  {
   "cell_type": "code",
   "execution_count": 23,
   "id": "b26f3138-6835-4eb9-9399-39d86e26b4e4",
   "metadata": {},
   "outputs": [
    {
     "data": {
      "text/plain": [
       "0       no dia 07 de outubro quando for votar não esqu...\n",
       "1       devido a aborrecimentos nas varias redes socia...\n",
       "2       eu gostaria de pedir a todos do grupos entrem ...\n",
       "3       como são as coisas chefe do jacaré aparece no ...\n",
       "4       a ratoeira funcionou mais a ratazana aguentou ...\n",
       "                              ...                        \n",
       "4583    amoedo itaú metacapitalistas george soros no g...\n",
       "4584     bem galera o video da psicologia reversa para...\n",
       "4585    divulguem esse video para que todos saibam que...\n",
       "4586    www oantagonista com exclusivo bolsonaro faz n...\n",
       "4587     bolsonaro2018 🇧🇷 1 o foco é trocar informaçõe...\n",
       "Name: pre_processed_text, Length: 4588, dtype: object"
      ]
     },
     "execution_count": 23,
     "metadata": {},
     "output_type": "execute_result"
    }
   ],
   "source": [
    "text_df['pre_processed_text']"
   ]
  },
  {
   "cell_type": "code",
   "execution_count": 24,
   "id": "883a2ba5-10b7-4ddd-a064-2654be4db316",
   "metadata": {},
   "outputs": [],
   "source": [
    "text_df.to_csv('data_processed/punctEmojiRemoval_stopwordKeep_dataset.csv')"
   ]
  },
  {
   "cell_type": "markdown",
   "id": "9cd6f06e-9854-4fb4-a60d-bb76cbc0b521",
   "metadata": {
    "tags": []
   },
   "source": [
    "# Pre-Processamento 6: Remoção de stopwords, emojis e pontuções"
   ]
  },
  {
   "cell_type": "code",
   "execution_count": 25,
   "id": "09f37dd5-1b5a-4363-88e4-07d08cb573c3",
   "metadata": {},
   "outputs": [],
   "source": [
    "text_df['pre_processed_text'] = [preprocess6(t) for t in text_df['text']]"
   ]
  },
  {
   "cell_type": "code",
   "execution_count": 26,
   "id": "f37873f4-8f68-4d72-82a9-4364a292e2f9",
   "metadata": {},
   "outputs": [
    {
     "data": {
      "text/plain": [
       "0       no dia 07 outubro votar esqueça esquerdopatas ...\n",
       "1       devido aborrecimentos varias redes sociais pos...\n",
       "2       eu gostaria pedir todos grupos entrem neste li...\n",
       "3       como coisas chefe jacaré aparece video baleado...\n",
       "4       a ratoeira funcionou ratazana aguentou dor cal...\n",
       "                              ...                        \n",
       "4583    amoedo itaú metacapitalistas george soros gove...\n",
       "4584     bem galera video psicologia reversa ajudar pr...\n",
       "4585           divulguem video todos saibam bolsonaro 🇧🇷 \n",
       "4586    www oantagonista exclusivo bolsonaro faz nova ...\n",
       "4587     bolsonaro2018 🇧🇷 1 foco trocar informações po...\n",
       "Name: pre_processed_text, Length: 4588, dtype: object"
      ]
     },
     "execution_count": 26,
     "metadata": {},
     "output_type": "execute_result"
    }
   ],
   "source": [
    "text_df['pre_processed_text']"
   ]
  },
  {
   "cell_type": "code",
   "execution_count": 27,
   "id": "9e20df88-30a8-4b7b-ba29-9c88712a86e1",
   "metadata": {},
   "outputs": [],
   "source": [
    "text_df.to_csv('data_processed/stopwordPuncEmojitRemoval_dataset.csv')"
   ]
  }
 ],
 "metadata": {
  "kernelspec": {
   "display_name": "Python 3 (ipykernel)",
   "language": "python",
   "name": "python3"
  },
  "language_info": {
   "codemirror_mode": {
    "name": "ipython",
    "version": 3
   },
   "file_extension": ".py",
   "mimetype": "text/x-python",
   "name": "python",
   "nbconvert_exporter": "python",
   "pygments_lexer": "ipython3",
   "version": "3.8.12"
  }
 },
 "nbformat": 4,
 "nbformat_minor": 5
}
