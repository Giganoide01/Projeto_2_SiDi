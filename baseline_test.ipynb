{
 "cells": [
  {
   "cell_type": "code",
   "execution_count": 60,
   "id": "c092513a-76a1-4835-9150-eaeb885bcff2",
   "metadata": {},
   "outputs": [],
   "source": [
    "import pandas as pd\n",
    "\n",
    "#features\n",
    "from sklearn.feature_extraction.text import TfidfVectorizer\n",
    "from sklearn.feature_extraction.text import CountVectorizer\n",
    "from sklearn.metrics.pairwise import linear_kernel\n",
    "from sklearn import metrics\n",
    "from sklearn.model_selection import train_test_split\n",
    "from sklearn.decomposition import PCA\n",
    "from sklearn.decomposition import TruncatedSVD\n",
    "\n",
    "#models\n",
    "from sklearn.linear_model import LogisticRegression\n",
    "from sklearn.linear_model import SGDClassifier\n",
    "from sklearn.naive_bayes import BernoulliNB\n",
    "from sklearn.naive_bayes import GaussianNB\n",
    "from sklearn.naive_bayes import MultinomialNB\n",
    "from sklearn.naive_bayes import ComplementNB\n",
    "from sklearn.ensemble  import RandomForestClassifier\n",
    "from sklearn.neural_network import MLPClassifier\n",
    "from sklearn.ensemble import GradientBoostingClassifier\n",
    "from sklearn.svm import SVC\n",
    "from sklearn.svm import LinearSVC\n",
    "from sklearn.neighbors import KNeighborsClassifier"
   ]
  },
  {
   "cell_type": "markdown",
   "id": "84b2a4d1-5320-4920-b99b-6cef84ecd1d4",
   "metadata": {},
   "source": [
    "https://www.scitepress.org/Papers/2021/104468/104468.pdf"
   ]
  },
  {
   "cell_type": "code",
   "execution_count": 46,
   "id": "44951845-5508-4eb1-bd80-90700c1d5c46",
   "metadata": {},
   "outputs": [
    {
     "name": "stderr",
     "output_type": "stream",
     "text": [
      "C:\\Users\\lmb3\\anaconda3\\envs\\fake_news_detector\\lib\\site-packages\\IPython\\core\\interactiveshell.py:3444: DtypeWarning: Columns (4,7) have mixed types.Specify dtype option on import or set low_memory=False.\n",
      "  exec(code_obj, self.user_global_ns, self.user_ns)\n"
     ]
    }
   ],
   "source": [
    "original_df = pd.read_csv(\"C:/Users/lmb3/source/repos/FakeWhatsApp.Br/data/2018/fakeWhatsApp.BR_2018.csv\")"
   ]
  },
  {
   "cell_type": "code",
   "execution_count": 47,
   "id": "445b0d47-7f5b-43c4-a851-bdd165be6cfe",
   "metadata": {},
   "outputs": [
    {
     "data": {
      "text/plain": [
       "(20872, 19)"
      ]
     },
     "execution_count": 47,
     "metadata": {},
     "output_type": "execute_result"
    }
   ],
   "source": [
    "original_df = original_df[original_df['midia']==0]\n",
    "original_df = original_df[original_df['viral']==1]\n",
    "original_df.shape"
   ]
  },
  {
   "cell_type": "code",
   "execution_count": 48,
   "id": "abf94c4d-7549-445a-a45f-d3f343f66ba4",
   "metadata": {},
   "outputs": [
    {
     "data": {
      "text/plain": [
       "(5284, 19)"
      ]
     },
     "execution_count": 48,
     "metadata": {},
     "output_type": "execute_result"
    }
   ],
   "source": [
    "original_df = original_df.drop_duplicates(subset=['text'])\n",
    "original_df.shape"
   ]
  },
  {
   "cell_type": "code",
   "execution_count": 49,
   "id": "061e7cf0-3394-4084-babb-ff21e527f756",
   "metadata": {},
   "outputs": [],
   "source": [
    "text_df = original_df[[\"text\",\"misinformation\"]]"
   ]
  },
  {
   "cell_type": "code",
   "execution_count": 50,
   "id": "a7ff98ca-3417-495f-8d39-7dcc77e024ba",
   "metadata": {},
   "outputs": [
    {
     "data": {
      "text/plain": [
       " 0    2547\n",
       " 1    2041\n",
       "-1     696\n",
       "Name: misinformation, dtype: int64"
      ]
     },
     "execution_count": 50,
     "metadata": {},
     "output_type": "execute_result"
    }
   ],
   "source": [
    "text_df[\"misinformation\"].value_counts()"
   ]
  },
  {
   "cell_type": "code",
   "execution_count": 64,
   "id": "74536abd-28bf-4bfb-bf3f-d00944ea0392",
   "metadata": {},
   "outputs": [],
   "source": [
    "text_df = text_df[text_df[\"misinformation\"]>-1]"
   ]
  },
  {
   "cell_type": "code",
   "execution_count": 58,
   "id": "1c975a34-f572-47cc-b31c-706f2bdfd58c",
   "metadata": {},
   "outputs": [],
   "source": [
    "texts_train, texts_test, y_train, y_test = train_test_split(text_df['text'], text_df['misinformation'], test_size=0.2, \n",
    "                                                                    stratify = text_df['misinformation'], random_state=42)"
   ]
  },
  {
   "cell_type": "markdown",
   "id": "96bd022e-e211-473e-a0fc-90b5505d5ccb",
   "metadata": {},
   "source": [
    "## Vetorizações"
   ]
  },
  {
   "cell_type": "code",
   "execution_count": 61,
   "id": "c9dd6f5a-c69d-43d2-a46c-4f0f21d287ba",
   "metadata": {},
   "outputs": [],
   "source": [
    "#BOW                                                                                                                                                                                                                                                                                                                                                                                                                                                                                                                                                                                                                                                                                                                                                                                                                                                                                                                                                                                                                                                                                                              \n",
    "vectorizer_bow = CountVectorizer(binary=True, ngram_range = (1,1), lowercase = False, token_pattern = r'[^\\s]+')"
   ]
  },
  {
   "cell_type": "code",
   "execution_count": 62,
   "id": "3cf37396-f922-4126-84bd-b97391803037",
   "metadata": {},
   "outputs": [],
   "source": [
    "#TFIDF\n",
    "vectorizer_tfidf = TfidfVectorizer(ngram_range = (1,1), lowercase = False, token_pattern = r'[^\\s]+')"
   ]
  },
  {
   "cell_type": "markdown",
   "id": "4158ca90-2ff0-4806-a453-ebb5dfa484cd",
   "metadata": {},
   "source": [
    "## Modelos"
   ]
  },
  {
   "cell_type": "code",
   "execution_count": null,
   "id": "560df49c-aea2-483c-884b-ef6c376ad124",
   "metadata": {},
   "outputs": [],
   "source": []
  }
 ],
 "metadata": {
  "kernelspec": {
   "display_name": "Python 3 (ipykernel)",
   "language": "python",
   "name": "python3"
  },
  "language_info": {
   "codemirror_mode": {
    "name": "ipython",
    "version": 3
   },
   "file_extension": ".py",
   "mimetype": "text/x-python",
   "name": "python",
   "nbconvert_exporter": "python",
   "pygments_lexer": "ipython3",
   "version": "3.9.7"
  }
 },
 "nbformat": 4,
 "nbformat_minor": 5
}
